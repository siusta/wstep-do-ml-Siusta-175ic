{
 "cells": [
  {
   "cell_type": "code",
   "execution_count": 30,
   "metadata": {},
   "outputs": [],
   "source": [
    "import json\n",
    "import requests"
   ]
  },
  {
   "cell_type": "markdown",
   "metadata": {},
   "source": [
    "#### Serializacja:"
   ]
  },
  {
   "cell_type": "code",
   "execution_count": 2,
   "metadata": {},
   "outputs": [],
   "source": [
    "data = {\n",
    "    \"postId\": 62,\n",
    "    \"id\": 309,\n",
    "    \"name\": \"maiores et quisquam\",\n",
    "    \"email\": \"Otilia.Daniel@elvie.io\",\n",
    "    \"body\": \"impedit qui nemo\\nreprehenderit sequi praesentium ullam veniam quaerat optio qui error\\naperiam qui quisquam dolor est blanditiis molestias rerum et\\nquae quam eum odit ab quia est ut\"\n",
    "  }\n",
    "\n",
    "with open(\"data_file.json\", \"w\") as write_file:\n",
    "    json.dump(data, write_file)\n",
    "\n",
    "json_string = json.dumps(data)"
   ]
  },
  {
   "cell_type": "markdown",
   "metadata": {},
   "source": [
    "#### Deserializacja:"
   ]
  },
  {
   "cell_type": "code",
   "execution_count": 3,
   "metadata": {},
   "outputs": [
    {
     "name": "stdout",
     "output_type": "stream",
     "text": [
      "<class 'tuple'>\n",
      "<class 'list'>\n"
     ]
    }
   ],
   "source": [
    "blackjack_hand = (8, \"Q\")\n",
    "encoded_hand = json.dumps(blackjack_hand)\n",
    "decoded_hand = json.loads(encoded_hand)\n",
    "print(type(blackjack_hand))\n",
    "print(type(decoded_hand))"
   ]
  },
  {
   "cell_type": "code",
   "execution_count": 9,
   "metadata": {},
   "outputs": [
    {
     "name": "stdout",
     "output_type": "stream",
     "text": [
      "{'postId': 62, 'id': 309, 'name': 'maiores et quisquam', 'email': 'Otilia.Daniel@elvie.io', 'body': 'impedit qui nemo\\nreprehenderit sequi praesentium ullam veniam quaerat optio qui error\\naperiam qui quisquam dolor est blanditiis molestias rerum et\\nquae quam eum odit ab quia est ut'}\n"
     ]
    }
   ],
   "source": [
    "with open(\"data_file.json\", \"r\") as read_file:\n",
    "    data = json.load(read_file)\n",
    "print(data)"
   ]
  },
  {
   "cell_type": "code",
   "execution_count": 13,
   "metadata": {},
   "outputs": [
    {
     "data": {
      "text/plain": [
       "{'id': 2,\n",
       " 'name': 'Ervin Howell',\n",
       " 'username': 'Antonette',\n",
       " 'email': 'Shanna@melissa.tv',\n",
       " 'address': {'street': 'Victor Plains',\n",
       "  'suite': 'Suite 879',\n",
       "  'city': 'Wisokyburgh',\n",
       "  'zipcode': '90566-7771',\n",
       "  'geo': {'lat': '-43.9509', 'lng': '-34.4618'}}}"
      ]
     },
     "execution_count": 13,
     "metadata": {},
     "output_type": "execute_result"
    }
   ],
   "source": [
    "json_string = '''{\n",
    "    \"id\": 2,\n",
    "    \"name\": \"Ervin Howell\",\n",
    "    \"username\": \"Antonette\",\n",
    "    \"email\": \"Shanna@melissa.tv\",\n",
    "    \"address\": {\n",
    "      \"street\": \"Victor Plains\",\n",
    "      \"suite\": \"Suite 879\",\n",
    "      \"city\": \"Wisokyburgh\",\n",
    "      \"zipcode\": \"90566-7771\",\n",
    "      \"geo\": {\n",
    "        \"lat\": \"-43.9509\",\n",
    "        \"lng\": \"-34.4618\"\n",
    "      }\n",
    "    }}\n",
    "  '''\n",
    "data = json.loads(json_string)\n",
    "data"
   ]
  },
  {
   "cell_type": "markdown",
   "metadata": {},
   "source": [
    "#### Wczytywanie danych z linku"
   ]
  },
  {
   "cell_type": "code",
   "execution_count": 26,
   "metadata": {},
   "outputs": [
    {
     "data": {
      "text/plain": [
       "[{'id': 1,\n",
       "  'name': 'Leanne Graham',\n",
       "  'username': 'Bret',\n",
       "  'email': 'Sincere@april.biz',\n",
       "  'address': {'street': 'Kulas Light',\n",
       "   'suite': 'Apt. 556',\n",
       "   'city': 'Gwenborough',\n",
       "   'zipcode': '92998-3874',\n",
       "   'geo': {'lat': '-37.3159', 'lng': '81.1496'}},\n",
       "  'phone': '1-770-736-8031 x56442',\n",
       "  'website': 'hildegard.org',\n",
       "  'company': {'name': 'Romaguera-Crona',\n",
       "   'catchPhrase': 'Multi-layered client-server neural-net',\n",
       "   'bs': 'harness real-time e-markets'}}]"
      ]
     },
     "execution_count": 26,
     "metadata": {},
     "output_type": "execute_result"
    }
   ],
   "source": [
    "response = requests.get(\"https://jsonplaceholder.typicode.com/users\")\n",
    "users = json.loads(response.text)\n",
    "users[:1]"
   ]
  },
  {
   "cell_type": "markdown",
   "metadata": {},
   "source": [
    "#### Znajdywanie użytkownika mieszkającego najbliżej równika"
   ]
  },
  {
   "cell_type": "code",
   "execution_count": 49,
   "metadata": {
    "scrolled": true
   },
   "outputs": [
    {
     "name": "stdout",
     "output_type": "stream",
     "text": [
      "Najbliżej równika mieszka Nicholas Runolfsdottir V, długość geograficzna jego domu to: -14.3990\n"
     ]
    }
   ],
   "source": [
    "lat = []\n",
    "for user in users:\n",
    "    lat.append([user['id'],float(user['address']['geo']['lat'])])\n",
    "closest_to_equator = sorted(lat, key=lambda x: math.fabs(x[1]))\n",
    "\n",
    "print(f\"Najbliżej równika mieszka {users[closest_to_equator[0][0]-1]['name']}, długość geograficzna jego domu to: {users[closest_to_equator[0][0]-1]['address']['geo']['lat']}\")\n"
   ]
  },
  {
   "cell_type": "markdown",
   "metadata": {},
   "source": [
    "#### Zapisywanie do pliku"
   ]
  },
  {
   "cell_type": "code",
   "execution_count": 50,
   "metadata": {},
   "outputs": [],
   "source": [
    "with open(\"Najbliższy_równika.json\", \"w\") as data_file:\n",
    "    json.dump(users[closest_to_equator[0][0]-1], data_file, indent=2)"
   ]
  },
  {
   "cell_type": "markdown",
   "metadata": {},
   "source": [
    "#### Enkodowanie własnych typów"
   ]
  },
  {
   "cell_type": "code",
   "execution_count": 52,
   "metadata": {},
   "outputs": [
    {
     "data": {
      "text/plain": [
       "'[7.0, 3.0]'"
      ]
     },
     "execution_count": 52,
     "metadata": {},
     "output_type": "execute_result"
    }
   ],
   "source": [
    "def encode_complex(z):\n",
    "    if isinstance(z, complex):\n",
    "        return (z.real, z.imag)\n",
    "    else:\n",
    "        type_name = z.__class__.__name__\n",
    "        raise TypeError(f\"Object of type '{type_name}' is not JSON serializable\")\n",
    "        \n",
    "json.dumps(7 + 3j, default=encode_complex)"
   ]
  },
  {
   "cell_type": "code",
   "execution_count": 53,
   "metadata": {},
   "outputs": [
    {
     "data": {
      "text/plain": [
       "'[8.0, 2.0]'"
      ]
     },
     "execution_count": 53,
     "metadata": {},
     "output_type": "execute_result"
    }
   ],
   "source": [
    "class ComplexEncoder(json.JSONEncoder):\n",
    "    def default(self, z):\n",
    "        if isinstance(z, complex):\n",
    "            return (z.real, z.imag)\n",
    "        else:\n",
    "            return super().default(z)\n",
    "        \n",
    "json.dumps(8 + 2j, cls=ComplexEncoder)"
   ]
  },
  {
   "cell_type": "code",
   "execution_count": 60,
   "metadata": {},
   "outputs": [
    {
     "data": {
      "text/plain": [
       "'[[1.0, 3.0]]'"
      ]
     },
     "execution_count": 60,
     "metadata": {},
     "output_type": "execute_result"
    }
   ],
   "source": [
    "encoder = ComplexEncoder()\n",
    "encoder.encode([1 + 3j])"
   ]
  },
  {
   "cell_type": "markdown",
   "metadata": {},
   "source": [
    "#### Dekodowanie własnych typów"
   ]
  },
  {
   "cell_type": "code",
   "execution_count": 61,
   "metadata": {},
   "outputs": [],
   "source": [
    "def decode_complex(dct):\n",
    "    if \"__complex__\" in dct:\n",
    "        return complex(dct[\"real\"], dct[\"imag\"])\n",
    "    return dct"
   ]
  },
  {
   "cell_type": "code",
   "execution_count": 64,
   "metadata": {},
   "outputs": [
    {
     "data": {
      "text/plain": [
       "complex"
      ]
     },
     "execution_count": 64,
     "metadata": {},
     "output_type": "execute_result"
    }
   ],
   "source": [
    "data = '''{\n",
    "    \"__complex__\": true,\n",
    "    \"real\": 12,\n",
    "    \"imag\": 5\n",
    "}'''\n",
    "dec = json.loads(data, object_hook=decode_complex)\n",
    "type(dec)"
   ]
  },
  {
   "cell_type": "code",
   "execution_count": null,
   "metadata": {},
   "outputs": [],
   "source": []
  }
 ],
 "metadata": {
  "kernelspec": {
   "display_name": "Python 3",
   "language": "python",
   "name": "python3"
  },
  "language_info": {
   "codemirror_mode": {
    "name": "ipython",
    "version": 3
   },
   "file_extension": ".py",
   "mimetype": "text/x-python",
   "name": "python",
   "nbconvert_exporter": "python",
   "pygments_lexer": "ipython3",
   "version": "3.9.0"
  }
 },
 "nbformat": 4,
 "nbformat_minor": 4
}
