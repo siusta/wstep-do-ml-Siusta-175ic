{
 "cells": [
  {
   "cell_type": "code",
   "execution_count": 4,
   "metadata": {},
   "outputs": [],
   "source": [
    "#Otwarcie pliku\n",
    "file = open('ezo_siusta.txt')"
   ]
  },
  {
   "cell_type": "code",
   "execution_count": 5,
   "metadata": {},
   "outputs": [
    {
     "name": "stdout",
     "output_type": "stream",
     "text": [
      "Though my body may decay on the island of Ezo, my spirit guards my lord in the East.\n"
     ]
    }
   ],
   "source": [
    "#Zamknięcie pliku po wykonaniu na nim opercaji z wykorzystaniem 'try-finally'\n",
    "try:\n",
    "    print(file.read())\n",
    "finally:\n",
    "    file.close()"
   ]
  },
  {
   "cell_type": "code",
   "execution_count": 6,
   "metadata": {},
   "outputs": [
    {
     "name": "stdout",
     "output_type": "stream",
     "text": [
      "Though my body may decay on the island of Ezo, my spirit guards my lord in the East.\n"
     ]
    }
   ],
   "source": [
    "#Wykonanie operacji na pliku z wykorzytaniem 'with';\n",
    "#plik zostaje otwarty w trybie tylko do odczytu ('r') i zamknięty po wyjściu z 'with'\n",
    "with open('ezo_siusta.txt','r')as reader:\n",
    "    print(reader.read())"
   ]
  },
  {
   "cell_type": "code",
   "execution_count": 7,
   "metadata": {},
   "outputs": [
    {
     "data": {
      "text/plain": [
       "_io.TextIOWrapper"
      ]
     },
     "execution_count": 7,
     "metadata": {},
     "output_type": "execute_result"
    }
   ],
   "source": [
    "#Wyjściowy typ otwartego pliku\n",
    "type(file)"
   ]
  },
  {
   "cell_type": "code",
   "execution_count": 9,
   "metadata": {},
   "outputs": [
    {
     "name": "stdout",
     "output_type": "stream",
     "text": [
      "<class '_io.BufferedReader'>\n"
     ]
    }
   ],
   "source": [
    "#Otwarcie pliku jako BufferedReader\n",
    "with open('ezo_siusta.txt','rb')as buffered_reader:\n",
    "    print(type(buffered_reader))"
   ]
  },
  {
   "cell_type": "code",
   "execution_count": 10,
   "metadata": {},
   "outputs": [
    {
     "name": "stdout",
     "output_type": "stream",
     "text": [
      "<class '_io.BufferedWriter'>\n"
     ]
    }
   ],
   "source": [
    "#Otwarcie pliku jako BufferedWriter\n",
    "with open('ezo_siusta.txt','wb')as buffered_writer:\n",
    "    print(type(buffered_writer))"
   ]
  },
  {
   "cell_type": "code",
   "execution_count": 13,
   "metadata": {},
   "outputs": [
    {
     "name": "stdout",
     "output_type": "stream",
     "text": [
      "<class '_io.FileIO'>\n"
     ]
    }
   ],
   "source": [
    "#Otwarcie pliku jako surowe\n",
    "with open('ezo_siusta.txt','rb', buffering=0)as raw_file:\n",
    "    print(type(raw_file))"
   ]
  },
  {
   "cell_type": "code",
   "execution_count": 16,
   "metadata": {},
   "outputs": [
    {
     "name": "stdout",
     "output_type": "stream",
     "text": [
      "From time to time\n",
      "The clouds give rest\n",
      "To the moon-beholders.\n",
      "\n",
      "- Matsuo Bashou\n"
     ]
    }
   ],
   "source": [
    "#Odczytanie całego pliku\n",
    "with open('haiku_siusta.txt','r')as reader:\n",
    "    print(reader.read())"
   ]
  },
  {
   "cell_type": "code",
   "execution_count": 18,
   "metadata": {},
   "outputs": [
    {
     "name": "stdout",
     "output_type": "stream",
     "text": [
      "From \n",
      "time \n",
      "to ti\n",
      "me\n",
      "\n"
     ]
    }
   ],
   "source": [
    "#Odczytanie pliku po 5 znaków metodą readline()\n",
    "with open('haiku_siusta.txt','r')as reader:\n",
    "    print(reader.readline(5))\n",
    "    print(reader.readline(5))\n",
    "    print(reader.readline(5))\n",
    "    print(reader.readline(5))"
   ]
  },
  {
   "cell_type": "code",
   "execution_count": 20,
   "metadata": {},
   "outputs": [
    {
     "name": "stdout",
     "output_type": "stream",
     "text": [
      "['From time to time\\n', 'The clouds give rest\\n', 'To the moon-beholders.\\n', '\\n', '- Matsuo Bashou']\n"
     ]
    }
   ],
   "source": [
    "#Odczytanie wierszy pliku za pomocą readlines()\n",
    "with open('haiku_siusta.txt','r')as reader:\n",
    "    print(reader.readlines())"
   ]
  },
  {
   "cell_type": "code",
   "execution_count": 22,
   "metadata": {},
   "outputs": [
    {
     "name": "stdout",
     "output_type": "stream",
     "text": [
      "['From time to time\\n', 'The clouds give rest\\n', 'To the moon-beholders.\\n', '\\n', '- Matsuo Bashou']\n"
     ]
    }
   ],
   "source": [
    "#Odczytanie wieszy pliku do listy:\n",
    "with open('haiku_siusta.txt','r')as reader:\n",
    "    print(list(reader))"
   ]
  },
  {
   "cell_type": "code",
   "execution_count": 23,
   "metadata": {},
   "outputs": [
    {
     "name": "stdout",
     "output_type": "stream",
     "text": [
      "From time to time\n",
      "The clouds give rest\n",
      "To the moon-beholders.\n",
      "\n",
      "- Matsuo Bashou"
     ]
    }
   ],
   "source": [
    "#Przejście po kolei po każdej linijce pliku z readline()\n",
    "with open('haiku_siusta.txt','r')as reader:\n",
    "    line = reader.readline()\n",
    "    while line != '':\n",
    "        print(line, end='')\n",
    "        line = reader.readline()"
   ]
  },
  {
   "cell_type": "code",
   "execution_count": 26,
   "metadata": {},
   "outputs": [
    {
     "name": "stdout",
     "output_type": "stream",
     "text": [
      "From time to time\n",
      "The clouds give rest\n",
      "To the moon-beholders.\n",
      "\n",
      "- Matsuo Bashou"
     ]
    }
   ],
   "source": [
    "#Przejście po kolei po każdej linijce pliku z readlines()\n",
    "with open('haiku_siusta.txt','r')as reader:\n",
    "    for line in reader.readlines():\n",
    "        print(line, end='')"
   ]
  },
  {
   "cell_type": "code",
   "execution_count": 27,
   "metadata": {},
   "outputs": [
    {
     "name": "stdout",
     "output_type": "stream",
     "text": [
      "From time to time\n",
      "The clouds give rest\n",
      "To the moon-beholders.\n",
      "\n",
      "- Matsuo Bashou"
     ]
    }
   ],
   "source": [
    "#Uproszczenie przejścia przez kazda linijkę:\n",
    "with open('haiku_siusta.txt','r')as reader:\n",
    "    for line in reader:\n",
    "        print(line, end='')"
   ]
  },
  {
   "cell_type": "code",
   "execution_count": 29,
   "metadata": {},
   "outputs": [
    {
     "name": "stdout",
     "output_type": "stream",
     "text": [
      "- Matsuo Bashou\n",
      "To the moon-beholders.\n",
      "The clouds give rest\n",
      "From time to time\n",
      "\n"
     ]
    }
   ],
   "source": [
    "#Zapisywanie do pliku:\n",
    "with open('haiku_siusta.txt', 'r') as reader:\n",
    "    haiku = reader.readlines()\n",
    "\n",
    "with open('haiku_siusta.txt', 'w') as writer:\n",
    "    for line in reversed(haiku):\n",
    "        writer.write(line)\n",
    "        \n",
    "with open('haiku_siusta.txt','r')as reader:\n",
    "    print(reader.read())"
   ]
  },
  {
   "cell_type": "code",
   "execution_count": 37,
   "metadata": {},
   "outputs": [
    {
     "name": "stdout",
     "output_type": "stream",
     "text": [
      "b''\n",
      "b'\\x89'\n",
      "b'PN'\n",
      "b'G\\r\\n'\n",
      "b'\\x1a\\n'\n"
     ]
    }
   ],
   "source": [
    "#Otwarcie obrazu jako string bajtów\n",
    "with open('travelling_monks_siusta.png', 'rb') as byte_reader:\n",
    "    for i in range (5):\n",
    "        print(byte_reader.readline(i))\n"
   ]
  },
  {
   "cell_type": "code",
   "execution_count": 38,
   "metadata": {},
   "outputs": [],
   "source": [
    "#dos2unix - zmiana końcówek linii z \\r\\n w dosie na \\n w unixie\n",
    "def str2unix(input_str: str) -> str:\n",
    "    r_str = input_str.replace('\\r\\n', '\\n')\n",
    "    return r_str\n",
    "\n",
    "def dos2unix(source_file: str, dest_file: str):\n",
    "    with open(source_file, 'r') as reader:\n",
    "        dos_content = reader.read()\n",
    "    unix_content = str2unix(dos_content)\n",
    "    with open(dest_file, 'w') as writer:\n",
    "        writer.write(unix_content)\n",
    "    \n",
    "dos2unix('waka_siusta.txt','unix_waka_siusta.txt')"
   ]
  },
  {
   "cell_type": "code",
   "execution_count": 41,
   "metadata": {},
   "outputs": [],
   "source": [
    "#Dopisanie do pliku - append\n",
    "with open('waka_siusta.txt', 'a') as append:\n",
    "    append.write('\\n\\n-Outomo no Yakamochi')"
   ]
  },
  {
   "cell_type": "code",
   "execution_count": 43,
   "metadata": {},
   "outputs": [
    {
     "name": "stdout",
     "output_type": "stream",
     "text": [
      "Over the seaâ€™s wide sweep\n",
      "Trails a haze of mist;\n",
      "The cranes call\n",
      "Sadly in the dusk\n",
      "Reminding me of home.\n",
      "\n",
      "-Outomo no Yakamochi\n"
     ]
    }
   ],
   "source": [
    "#Zawatrość pliku po dopisaniu imienia autora:\n",
    "with open('waka_siusta.txt', 'r') as reader:\n",
    "    print(reader.read())"
   ]
  },
  {
   "cell_type": "code",
   "execution_count": 46,
   "metadata": {},
   "outputs": [],
   "source": [
    "#Dwa pliki na raz\n",
    "with open('waka_siusta.txt', 'r') as reader, open('reversed_waka_siusta.txt', 'w') as writer:\n",
    "    waka=reader.readlines()\n",
    "    writer.writelines(reversed(waka))"
   ]
  },
  {
   "cell_type": "code",
   "execution_count": 47,
   "metadata": {},
   "outputs": [
    {
     "name": "stdout",
     "output_type": "stream",
     "text": [
      "-Outomo no Yakamochi\n",
      "Reminding me of home.\n",
      "Sadly in the dusk\n",
      "The cranes call\n",
      "Trails a haze of mist;\n",
      "Over the seaâ€™s wide sweep\n",
      "\n"
     ]
    }
   ],
   "source": [
    "#Zawatrość drugiego pliku:\n",
    "with open('reversed_waka_siusta.txt', 'r') as reader:\n",
    "    print(reader.read())"
   ]
  },
  {
   "cell_type": "code",
   "execution_count": 50,
   "metadata": {},
   "outputs": [],
   "source": [
    "#Własna klasa managera plików\n",
    "class my_file_reader():\n",
    "    def __init__(self, file_path):\n",
    "        self.__path = file_path\n",
    "        self.__file_object = None\n",
    "\n",
    "    def __enter__(self):\n",
    "        self.__file_object = open(self.__path)\n",
    "        return self\n",
    "\n",
    "    def __exit__(self, type, val, tb):\n",
    "        self.__file_object.close()\n"
   ]
  },
  {
   "cell_type": "code",
   "execution_count": 51,
   "metadata": {},
   "outputs": [],
   "source": [
    "#Klasa managera parsującego pliki png\n",
    "class PngReader():\n",
    "    #sprawdzenie nagłówka\n",
    "    _expected_magic = b'\\x89PNG\\r\\n\\x1a\\n'\n",
    "\n",
    "    def __init__(self, file_path):\n",
    "        #sprawdzenie rozszerzenia\n",
    "        if not file_path.endswith('.png'):\n",
    "            raise NameError(\"File must be a '.png' extension\")\n",
    "        self.__path = file_path\n",
    "        self.__file_object = None\n",
    "\n",
    "    def __enter__(self):\n",
    "        self.__file_object = open(self.__path, 'rb')\n",
    "\n",
    "        magic = self.__file_object.read(8)\n",
    "        if magic != self._expected_magic:\n",
    "            raise TypeError(\"The File is not a properly formatted .png file!\")\n",
    "\n",
    "        return self\n",
    "\n",
    "    def __exit__(self, type, val, tb):\n",
    "        self.__file_object.close()\n",
    "\n",
    "    def __iter__(self):\n",
    "        # iterator\n",
    "        return self\n",
    "\n",
    "    def __next__(self):\n",
    "        initial_data = self.__file_object.read(4)\n",
    "\n",
    "        # odczyt danych w \"kawałkach\"\n",
    "        if self.__file_object is None or initial_data == b'':\n",
    "            raise StopIteration\n",
    "        else:\n",
    "            # tuple każdego kawałka\n",
    "            chunk_len = int.from_bytes(initial_data, byteorder='big')\n",
    "            chunk_type = self.__file_object.read(4)\n",
    "            chunk_data = self.__file_object.read(chunk_len)\n",
    "            chunk_crc = self.__file_object.read(4)\n",
    "            return chunk_len, chunk_type, chunk_data, chunk_crc"
   ]
  },
  {
   "cell_type": "code",
   "execution_count": 52,
   "metadata": {},
   "outputs": [
    {
     "name": "stdout",
     "output_type": "stream",
     "text": [
      "00013, b'IHDR', b'\\x94\\xfaD\\x8b'\n",
      "00001, b'sRGB', b'\\xae\\xce\\x1c\\xe9'\n",
      "00004, b'gAMA', b'\\x0b\\xfca\\x05'\n",
      "00009, b'pHYs', b'\\xdef\\x1fx'\n",
      "65445, b'IDAT', b'm*\\x83\\xc0'\n",
      "65524, b'IDAT', b'\\xc55\\x97a'\n",
      "65524, b'IDAT', b'\\x86\\xeb\\xd7C'\n",
      "65524, b'IDAT', b'hs7\\xa2'\n",
      "65524, b'IDAT', b'|\\x1a!\\x7f'\n",
      "65524, b'IDAT', b')|\\x0c\\xef'\n",
      "65524, b'IDAT', b'\\xc3\\x9dG='\n",
      "65524, b'IDAT', b'\\xdd\\xe2f-'\n",
      "54684, b'IDAT', b'\\n\\x83\\x87f'\n",
      "00000, b'IEND', b'\\xaeB`\\x82'\n"
     ]
    }
   ],
   "source": [
    "#Parsowanie pliku png\n",
    "with PngReader('travelling_monks_siusta.png') as reader:\n",
    "    for l,t,d,c in reader:\n",
    "        print(f\"{l:05}, {t}, {c}\")"
   ]
  },
  {
   "cell_type": "code",
   "execution_count": null,
   "metadata": {},
   "outputs": [],
   "source": []
  }
 ],
 "metadata": {
  "kernelspec": {
   "display_name": "Python 3",
   "language": "python",
   "name": "python3"
  },
  "language_info": {
   "codemirror_mode": {
    "name": "ipython",
    "version": 3
   },
   "file_extension": ".py",
   "mimetype": "text/x-python",
   "name": "python",
   "nbconvert_exporter": "python",
   "pygments_lexer": "ipython3",
   "version": "3.9.0"
  }
 },
 "nbformat": 4,
 "nbformat_minor": 4
}
