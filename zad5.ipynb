{
 "cells": [
  {
   "cell_type": "code",
   "execution_count": 38,
   "metadata": {},
   "outputs": [],
   "source": [
    "import spacy\n",
    "import re\n",
    "from spacy.tokenizer import Tokenizer\n",
    "from collections import Counter\n",
    "from spacy import displacy\n",
    "nlp = spacy.load('pl_core_news_sm')"
   ]
  },
  {
   "cell_type": "code",
   "execution_count": 5,
   "metadata": {},
   "outputs": [
    {
     "name": "stdout",
     "output_type": "stream",
     "text": [
      "['We', 'wrześniu', 'roku', '1841', 'w', 'okolicach', 'miasteczka', 'Hagenów', 'na', 'terenie', 'Meklemburgii', 'zostały', 'odkryte', 'dwa', 'groby', 'szkieletowe', 'datowane', 'na', 'okres', 'wczesnorzymski', '(', 'II', 'w.po', 'Chr', '.', ')']\n"
     ]
    }
   ],
   "source": [
    "#Zczytywanie słów ze stringa\n",
    "\n",
    "intro_text = ('We wrześniu roku 1841 w okolicach miasteczka Hagenów na terenie Meklemburgii ' \n",
    "              'zostały odkryte dwa groby szkieletowe datowane na okres wczesnorzymski '\n",
    "              '(II w.po Chr.)')\n",
    "intro_doc = nlp(intro_text)\n",
    "print([token.text for token in intro_doc])\n"
   ]
  },
  {
   "cell_type": "code",
   "execution_count": 8,
   "metadata": {},
   "outputs": [
    {
     "name": "stdout",
     "output_type": "stream",
     "text": [
      "['We', 'wrzeÅ›niu', 'roku', '1841', 'w', 'okolicach', 'miasteczka', 'HagenÃ³w', 'na', 'terenie', 'Meklemburgii', '\\n', 'zostaÅ', '‚', 'y', 'odkryte', 'dwa', 'groby', 'szkieletowe', 'datowane', 'na', 'okres', 'wczesnorzymski', '(', 'II', 'w', '.', '\\n', 'po', 'Chr', '.', ')']\n"
     ]
    }
   ],
   "source": [
    "#Zczytywanie słów z dokumentu teksowego\n",
    "\n",
    "file_name = 'intro.txt'\n",
    "intro_file_text = open(file_name).read()\n",
    "intro_file_doc = nlp(intro_file_text)\n",
    "print ([token.text for token in intro_file_doc])"
   ]
  },
  {
   "cell_type": "code",
   "execution_count": 10,
   "metadata": {},
   "outputs": [
    {
     "name": "stdout",
     "output_type": "stream",
     "text": [
      "4\n",
      "Wojny galijskie to czas ważnych zmian w rzymskiej wojskowości, w dużej części będących zasługą Juliusza Cezara.\n",
      "Nie tylko zwiększył on żołd, ale także zadbał o ściślejsze podporządkowanie żołnierzy dowódcy.\n",
      "Zmiany w tym okresie objęły sposoby zdobywania miast, a nawet kwestie obyczajowe – w nieprzystępnym klimacie Cezar pozwolił żołnierzom na...\n",
      "noszenie spodni.\n"
     ]
    }
   ],
   "source": [
    "#Wykrywanie zdań\n",
    "\n",
    "text = ('Wojny galijskie to czas ważnych zmian w rzymskiej wojskowości, w dużej części będących zasługą Juliusza Cezara. Nie tylko zwiększył on żołd, ale także zadbał o ściślejsze podporządkowanie żołnierzy dowódcy. Zmiany w tym okresie objęły sposoby zdobywania miast, a nawet kwestie obyczajowe – w nieprzystępnym klimacie Cezar pozwolił żołnierzom na... noszenie spodni.')\n",
    "doc = nlp(text)\n",
    "sentences = list(doc.sents)\n",
    "print (len(sentences))\n",
    "for sentence in sentences:\n",
    "    print (sentence)"
   ]
  },
  {
   "cell_type": "code",
   "execution_count": 17,
   "metadata": {},
   "outputs": [
    {
     "name": "stdout",
     "output_type": "stream",
     "text": [
      "4\n",
      "Wojny galijskie to czas ważnych zmian w rzymskiej wojskowości, w dużej części będących zasługą Juliusza Cezara.\n",
      "Nie tylko zwiększył on żołd, ale także zadbał o ściślejsze podporządkowanie żołnierzy dowódcy.\n",
      "Zmiany w tym okresie objęły sposoby zdobywania miast, a nawet kwestie obyczajowe – w nieprzystępnym klimacie Cezar pozwolił żołnierzom na...\n",
      "noszenie spodni.\n"
     ]
    }
   ],
   "source": [
    "#Uwzględnienie trzykropków \n",
    "\n",
    "#nie działa ;_;\n",
    "\n",
    "def set_custom_boundaries(doc):\n",
    "     for token in doc[:-1]:\n",
    "         if token.text == '...':\n",
    "             doc[token.i+1].is_sent_start = True\n",
    "     return doc\n",
    "\n",
    "c_nlp = spacy.load('pl_core_news_sm')\n",
    "c_nlp.add_pipe(set_custom_boundaries, before='parser')\n",
    "c_doc = c_nlp(text)\n",
    "c_sentences = list(c_doc.sents)\n",
    "print (len(c_sentences))\n",
    "for sentence in c_sentences:\n",
    "    print (sentence)\n"
   ]
  },
  {
   "cell_type": "code",
   "execution_count": 14,
   "metadata": {},
   "outputs": [
    {
     "name": "stdout",
     "output_type": "stream",
     "text": [
      "We 0\n",
      "wrześniu 3\n",
      "roku 12\n",
      "1841 17\n",
      "w 22\n",
      "okolicach 24\n",
      "miasteczka 34\n",
      "Hagenów 45\n",
      "na 53\n",
      "terenie 56\n",
      "Meklemburgii 64\n",
      "zostały 77\n",
      "odkryte 85\n",
      "dwa 93\n",
      "groby 97\n",
      "szkieletowe 103\n",
      "datowane 115\n",
      "na 124\n",
      "okres 127\n",
      "wczesnorzymski 133\n",
      "( 148\n",
      "II 149\n",
      "w.po 152\n",
      "Chr 157\n",
      ". 160\n",
      ") 161\n"
     ]
    }
   ],
   "source": [
    "#Identyfikacja tokenów\n",
    "\n",
    "for token in intro_doc:\n",
    "    print (token, token.idx)"
   ]
  },
  {
   "cell_type": "code",
   "execution_count": 15,
   "metadata": {},
   "outputs": [
    {
     "name": "stdout",
     "output_type": "stream",
     "text": [
      "We 0 We  True False False Xx True\n",
      "wrześniu 3 wrześniu  True False False xxxx False\n",
      "roku 12 roku  True False False xxxx True\n",
      "1841 17 1841  False False False dddd False\n",
      "w 22 w  True False False x True\n",
      "okolicach 24 okolicach  True False False xxxx False\n",
      "miasteczka 34 miasteczka  True False False xxxx False\n",
      "Hagenów 45 Hagenów  True False False Xxxxx False\n",
      "na 53 na  True False False xx True\n",
      "terenie 56 terenie  True False False xxxx False\n",
      "Meklemburgii 64 Meklemburgii  True False False Xxxxx False\n",
      "zostały 77 zostały  True False False xxxx False\n",
      "odkryte 85 odkryte  True False False xxxx False\n",
      "dwa 93 dwa  True False False xxx True\n",
      "groby 97 groby  True False False xxxx False\n",
      "szkieletowe 103 szkieletowe  True False False xxxx False\n",
      "datowane 115 datowane  True False False xxxx False\n",
      "na 124 na  True False False xx True\n",
      "okres 127 okres  True False False xxxx False\n",
      "wczesnorzymski 133 wczesnorzymski  True False False xxxx False\n",
      "( 148 ( False True False ( False\n",
      "II 149 II  True False False XX False\n",
      "w.po 152 w.po  False False False x.xx False\n",
      "Chr 157 Chr True False False Xxx False\n",
      ". 160 . False True False . False\n",
      ") 161 ) False True False ) False\n"
     ]
    }
   ],
   "source": [
    "#Atrybuty tokenów\n",
    "\n",
    "for token in intro_doc:\n",
    "     print (token, token.idx, token.text_with_ws,\n",
    "            token.is_alpha, token.is_punct, token.is_space,\n",
    "            token.shape_, token.is_stop)\n"
   ]
  },
  {
   "cell_type": "code",
   "execution_count": 19,
   "metadata": {},
   "outputs": [
    {
     "name": "stdout",
     "output_type": "stream",
     "text": [
      "['We', 'wrześniu', 'roku', '1841', 'w', 'okolicach', 'miasteczka', 'Hagenów', 'na', 'terenie', 'Meklemburgii', 'zostały', 'odkryte', 'dwa', 'groby', 'szkieletowe', 'datowane', 'na', 'okres', 'wczesnorzymski', '(', 'II', 'w.po', 'Chr', '.', ')']\n"
     ]
    }
   ],
   "source": [
    "#Własny token\n",
    "\n",
    "prefix_re = spacy.util.compile_prefix_regex(c_nlp.Defaults.prefixes)\n",
    "suffix_re = spacy.util.compile_suffix_regex(c_nlp.Defaults.suffixes)\n",
    "infix_re = re.compile(r'''[-~]''')\n",
    "def customize_tokenizer(nlp):\n",
    "    return Tokenizer(nlp.vocab, prefix_search=prefix_re.search,\n",
    "                     suffix_search=suffix_re.search,\n",
    "                     infix_finditer=infix_re.finditer,\n",
    "                     token_match=None\n",
    "                     )\n",
    "\n",
    "c_nlp.tokenizer = customize_tokenizer(c_nlp)\n",
    "c_tokenizer_doc = c_nlp(intro_text)\n",
    "print([token.text for token in c_tokenizer_doc])\n"
   ]
  },
  {
   "cell_type": "code",
   "execution_count": 22,
   "metadata": {},
   "outputs": [
    {
     "name": "stdout",
     "output_type": "stream",
     "text": [
      "381\n",
      "cała\n",
      "mimo\n",
      "o\n",
      "twój\n",
      "viii\n",
      "raz\n",
      "cokolwiek\n",
      "dziś\n",
      "wszyscy\n",
      "totobą\n",
      "gdzieś\n",
      "zawsze\n",
      "przede\n",
      "dzis\n",
      "kiedy\n"
     ]
    }
   ],
   "source": [
    "#Najczęstsze słowa w języku polskim (stop-słowa)\n",
    "\n",
    "stopwords = spacy.lang.pl.stop_words.STOP_WORDS\n",
    "print(len(stopwords))\n",
    "\n",
    "for stop_word in list(stopwords)[:15]:\n",
    "    print(stop_word)"
   ]
  },
  {
   "cell_type": "code",
   "execution_count": 23,
   "metadata": {},
   "outputs": [
    {
     "name": "stdout",
     "output_type": "stream",
     "text": [
      "Wojny\n",
      "galijskie\n",
      "czas\n",
      "ważnych\n",
      "zmian\n",
      "rzymskiej\n",
      "wojskowości\n",
      ",\n",
      "dużej\n",
      "części\n",
      "będących\n",
      "zasługą\n",
      "Juliusza\n",
      "Cezara\n",
      ".\n",
      "zwiększył\n",
      "żołd\n",
      ",\n",
      "zadbał\n",
      "ściślejsze\n",
      "podporządkowanie\n",
      "żołnierzy\n",
      "dowódcy\n",
      ".\n",
      "Zmiany\n",
      "okresie\n",
      "objęły\n",
      "sposoby\n",
      "zdobywania\n",
      "miast\n",
      ",\n",
      "kwestie\n",
      "obyczajowe\n",
      "–\n",
      "nieprzystępnym\n",
      "klimacie\n",
      "Cezar\n",
      "pozwolił\n",
      "żołnierzom\n",
      ".\n",
      ".\n",
      ".\n",
      "noszenie\n",
      "spodni\n",
      ".\n"
     ]
    }
   ],
   "source": [
    "#Usunięcie stop-słów z tekstu\n",
    "\n",
    "for token in doc:\n",
    "    if not token.is_stop:\n",
    "        print (token)"
   ]
  },
  {
   "cell_type": "code",
   "execution_count": 24,
   "metadata": {},
   "outputs": [
    {
     "name": "stdout",
     "output_type": "stream",
     "text": [
      "Wojny  -  wojna\n",
      "galijskie  -  galijski\n",
      "to  -  to\n",
      "czas  -  czas\n",
      "ważnych  -  ważny\n",
      "zmian  -  zmiana\n",
      "w  -  w\n",
      "rzymskiej  -  rzymski\n",
      "wojskowości  -  wojskowość\n",
      ",  -  ,\n",
      "w  -  w\n",
      "dużej  -  duży\n",
      "części  -  część\n",
      "będących  -  być\n",
      "zasługą  -  zasługa\n",
      "Juliusza  -  Juliusz\n",
      "Cezara  -  cezar\n",
      ".  -  .\n",
      "Nie  -  nie\n",
      "tylko  -  tylko\n",
      "zwiększył  -  zwiększyć\n",
      "on  -  on\n",
      "żołd  -  żołd\n",
      ",  -  ,\n",
      "ale  -  ale\n",
      "także  -  także\n",
      "zadbał  -  zadbać\n",
      "o  -  o\n",
      "ściślejsze  -  ścisły\n",
      "podporządkowanie  -  podporządkowanie\n",
      "żołnierzy  -  żołnierz\n",
      "dowódcy  -  dowódca\n",
      ".  -  .\n",
      "Zmiany  -  zmiana\n",
      "w  -  w\n",
      "tym  -  ten\n",
      "okresie  -  okres\n",
      "objęły  -  objąć\n",
      "sposoby  -  sposób\n",
      "zdobywania  -  zdobywania\n",
      "miast  -  miasto\n",
      ",  -  ,\n",
      "a  -  a\n",
      "nawet  -  nawet\n",
      "kwestie  -  kwestia\n",
      "obyczajowe  -  obyczajowy\n",
      "–  -  –\n",
      "w  -  w\n",
      "nieprzystępnym  -  przystępny\n",
      "klimacie  -  klimat\n",
      "Cezar  -  cezar\n",
      "pozwolił  -  pozwolić\n",
      "żołnierzom  -  żołnierz\n",
      "na  -  na\n",
      ".  -  .\n",
      ".  -  .\n",
      ".  -  .\n",
      "noszenie  -  noszenie\n",
      "spodni  -  spodnie\n",
      ".  -  .\n"
     ]
    }
   ],
   "source": [
    "#Upraszczanie formy (lematyzacja)\n",
    "doc = nlp(text)\n",
    "for token in doc:\n",
    "    print(token,' - ', token.lemma_)"
   ]
  },
  {
   "cell_type": "code",
   "execution_count": 34,
   "metadata": {},
   "outputs": [
    {
     "name": "stdout",
     "output_type": "stream",
     "text": [
      "Top 5:  [('w', 10), ('i', 7), ('z', 6), ('do', 6), ('na', 4)]\n",
      "Top 5 bez stop-słów [('Cezara', 3), ('okręty', 3), ('okresie', 2), ('Wenetów', 2), ('Galii', 2)]\n"
     ]
    }
   ],
   "source": [
    "#Analiza tekstu pod względem występowania słów\n",
    "\n",
    "an_text = ('W omawianym okresie siły morskie Cezara nie były zbyt liczne. Rywalizacja z plemionem Wenetów wiodącym prym na północno-zachodnim wybrzeżu Galii zmusiła go jednak do budowy stosunkowo silnej floty. Wspomina o tym Kasjusz Dion: W głębi kraju budował okręty, które, jak słyszał są pożyteczne podczas przypływów i odpływów (...) kazał sprowadzić z prowincji wioślarzy, pościągać żeglarzy i sterników28. Nowo wybudowana flota rzymska wzięła niebawem udział w wielkiej bitwie morskiej u ujścia Loary, rozegranej w 56 r. p.n.e. Podczas niej prokonsul Galii zastosował wynalazek techniczny, zwany harpago bądź harpax, kładąc w ten sposób duże zasługi na polu unowocześnienia wyposażenia okrętów rzymskich. Była to przymocowana do liny i zakończona hakiem żerdź wystrzeliwana z katapulty. Mechanizm działania wspomnianego wynalazku, umożliwiającego zholowanie wrogiego okrętu w rejon własnego, tak opisuje Cezar: Jedno tylko urządzenie zastosowane przez naszych było bardzo użyteczne, mianowicie dobrze na końcu wyostrzone sierpy, nasadzone i przymocowane do żerdzi, przypominające wyglądem osęki murowe. Gdy liny, którymi reje były przymocowane do masztów, zostały nimi zahaczone i przyciągnięte, po puszczeniu w ruch naszego statku przy pomocy wioseł ulegały rozerwaniu29. Niewykluczone, że po ujarzmieniu Wenetów flotę rzymską zasiliły okręty zbuntowanego plemienia, które według Cezara miały: (...) dna bardziej płaskie (...) aby mogły łatwiej wyzwalać się z mielizn i odpływów; dzioby równie wysoko podniesione jak rufy przystosowane do wysokiej fali i mórz; okręty były w całości zbudowane z dębiny. W dziedzinie taktyki walk morskich nie wprowadzono większych zmian. Flota morska Cezara, zbudowana głównie w galijskich stoczniach, stosowała podczas bitew nadal taktykę wypracowaną w okresie wczesnej republiki. Poza wykorzystaniem floty wojennej, w powszechnym użyciu pozostawały wciąż statki transportowe, ściągane z Morza Śródziemnego. Podczas swej wyprawy do Brytanii w 55 r. p.n.e. Cezar dysponował ok. 800 jednostkami tego typu. To dzięki niej przeprawa legionów na nowo odkrytą przez Rzymian wyspę zakończyła się powodzeniem.')\n",
    "\n",
    "an_doc = nlp(an_text)\n",
    "words = [token.text for token in an_doc\n",
    "        if not token.is_punct]\n",
    "relevant_words = [token.text for token in an_doc\n",
    "        if not token.is_stop and not token.is_punct]\n",
    "word_freq = Counter(words)\n",
    "rel_freq = Counter(relevant_words)\n",
    "print ('Top 5: ', word_freq.most_common(5))\n",
    "print ('Top 5 bez stop-słów', rel_freq.most_common(5))"
   ]
  },
  {
   "cell_type": "code",
   "execution_count": 35,
   "metadata": {},
   "outputs": [
    {
     "name": "stdout",
     "output_type": "stream",
     "text": [
      "Wojny SUBST NOUN None\n",
      "galijskie ADJ ADJ adjective\n",
      "to PRED VERB None\n",
      "czas SUBST NOUN None\n",
      "ważnych ADJ ADJ adjective\n",
      "zmian SUBST NOUN None\n",
      "w PREP ADP None\n",
      "rzymskiej ADJ ADJ adjective\n",
      "wojskowości SUBST NOUN None\n",
      ", INTERP PUNCT None\n",
      "w PREP ADP None\n",
      "dużej ADJ ADJ adjective\n",
      "części SUBST NOUN None\n",
      "będących PACT VERB None\n",
      "zasługą SUBST NOUN None\n",
      "Juliusza SUBST NOUN None\n",
      "Cezara SUBST NOUN None\n",
      ". INTERP PUNCT None\n",
      "Nie CONJ CCONJ conjunction\n",
      "tylko CONJ CCONJ conjunction\n",
      "zwiększył PRAET VERB None\n",
      "on PPRON3 PRON None\n",
      "żołd SUBST NOUN None\n",
      ", INTERP PUNCT None\n",
      "ale CONJ CCONJ conjunction\n",
      "także CONJ CCONJ conjunction\n",
      "zadbał PRAET VERB None\n",
      "o PREP ADP None\n",
      "ściślejsze ADJ ADJ adjective\n",
      "podporządkowanie GER NOUN None\n",
      "żołnierzy SUBST NOUN None\n",
      "dowódcy SUBST NOUN None\n",
      ". INTERP PUNCT None\n",
      "Zmiany SUBST NOUN None\n",
      "w PREP ADP None\n",
      "tym ADJ ADJ adjective\n",
      "okresie SUBST NOUN None\n",
      "objęły PRAET VERB None\n",
      "sposoby SUBST NOUN None\n",
      "zdobywania GER NOUN None\n",
      "miast SUBST NOUN None\n",
      ", INTERP PUNCT None\n",
      "a CONJ CCONJ conjunction\n",
      "nawet QUB PART None\n",
      "kwestie SUBST NOUN None\n",
      "obyczajowe ADJ ADJ adjective\n",
      "– INTERP PUNCT None\n",
      "w PREP ADP None\n",
      "nieprzystępnym ADJ ADJ adjective\n",
      "klimacie SUBST NOUN None\n",
      "Cezar SUBST NOUN None\n",
      "pozwolił PRAET VERB None\n",
      "żołnierzom SUBST NOUN None\n",
      "na PREP ADP None\n",
      ". INTERP PUNCT None\n",
      ". INTERP PUNCT None\n",
      ". INTERP PUNCT None\n",
      "noszenie GER NOUN None\n",
      "spodni SUBST NOUN None\n",
      ". INTERP PUNCT None\n"
     ]
    }
   ],
   "source": [
    "#Rozpozawanie słów jako części mowy\n",
    "\n",
    "for token in doc:\n",
    "    print (token, token.tag_, token.pos_, spacy.explain(token.tag_))\n"
   ]
  },
  {
   "cell_type": "code",
   "execution_count": 37,
   "metadata": {},
   "outputs": [
    {
     "name": "stdout",
     "output_type": "stream",
     "text": [
      "[Wojny, czas, zmian, wojskowości, części, zasługą, Juliusza, Cezara, żołd, podporządkowanie, żołnierzy, dowódcy, Zmiany, okresie, sposoby, zdobywania, miast, kwestie, klimacie, Cezar, żołnierzom, noszenie, spodni]\n"
     ]
    }
   ],
   "source": [
    "#Tylko rzeczowniki\n",
    "\n",
    "nouns = []\n",
    "for token in doc:\n",
    "    if token.pos_ == 'NOUN':\n",
    "        nouns.append(token)\n",
    "print (nouns)"
   ]
  },
  {
   "cell_type": "code",
   "execution_count": null,
   "metadata": {},
   "outputs": [],
   "source": [
    "#Wizualizacja\n",
    "\n",
    "displacy.render(doc, style='dep', jupyter=True)"
   ]
  },
  {
   "cell_type": "code",
   "execution_count": null,
   "metadata": {},
   "outputs": [],
   "source": []
  }
 ],
 "metadata": {
  "kernelspec": {
   "display_name": "Python 3",
   "language": "python",
   "name": "python3"
  },
  "language_info": {
   "codemirror_mode": {
    "name": "ipython",
    "version": 3
   },
   "file_extension": ".py",
   "mimetype": "text/x-python",
   "name": "python",
   "nbconvert_exporter": "python",
   "pygments_lexer": "ipython3",
   "version": "3.9.0"
  }
 },
 "nbformat": 4,
 "nbformat_minor": 4
}
