{
  "nbformat": 4,
  "nbformat_minor": 0,
  "metadata": {
    "colab": {
      "name": "zad7.ipynb",
      "provenance": [],
      "authorship_tag": "ABX9TyPVqLOFHEFTFJYjO7seg5bY",
      "include_colab_link": true
    },
    "kernelspec": {
      "name": "python3",
      "display_name": "Python 3"
    }
  },
  "cells": [
    {
      "cell_type": "markdown",
      "metadata": {
        "id": "view-in-github",
        "colab_type": "text"
      },
      "source": [
        "<a href=\"https://colab.research.google.com/github/siusta/wstep-do-ml-Siusta-175ic/blob/main/zad7.ipynb\" target=\"_parent\"><img src=\"https://colab.research.google.com/assets/colab-badge.svg\" alt=\"Open In Colab\"/></a>"
      ]
    },
    {
      "cell_type": "code",
      "metadata": {
        "id": "qHQ22JZII8Vw"
      },
      "source": [
        "import numpy as np\r\n",
        "from tabulate import tabulate"
      ],
      "execution_count": 80,
      "outputs": []
    },
    {
      "cell_type": "code",
      "metadata": {
        "id": "2GhXbNM52Lqm"
      },
      "source": [
        "#Funkcja aktywacji\r\n",
        "def fun (x):\r\n",
        "  return 0 if x<0 else 1"
      ],
      "execution_count": 48,
      "outputs": []
    },
    {
      "cell_type": "code",
      "metadata": {
        "id": "q1Xo4e-b2_Pj"
      },
      "source": [
        "#Suma iloczynów wag i wejść dla AND i OR:\r\n",
        "def neuron_sum(bias, inputs, weights):\r\n",
        "  return bias*weights[0]+inputs[0]*weights[1]+inputs[1]*weights[2]"
      ],
      "execution_count": 61,
      "outputs": []
    },
    {
      "cell_type": "code",
      "metadata": {
        "colab": {
          "base_uri": "https://localhost:8080/"
        },
        "id": "Cp-p59AR716H",
        "outputId": "54687f86-3523-44f9-ff72-fa9475f322bd"
      },
      "source": [
        "#Bramka AND\r\n",
        "bias = 1\r\n",
        "inputs = [[0,0],[0,1],[1,0],[1,1]]\r\n",
        "weights = [-1.5,1,1]\r\n",
        "\r\n",
        "table_of_outcomes = []\r\n",
        "for input in inputs:\r\n",
        "  sum = neuron_sum(bias, input, weights)\r\n",
        "  table_of_outcomes.append([bias,input, weights, sum, fun(sum)])\r\n",
        "\r\n",
        "print(tabulate(table_of_outcomes, headers=[\"Bias\",\"Input\",\"Weights\",\"Sum\",\"Output\"]))"
      ],
      "execution_count": 77,
      "outputs": [
        {
          "output_type": "stream",
          "text": [
            "  Bias  Input    Weights         Sum    Output\n",
            "------  -------  ------------  -----  --------\n",
            "     1  [0, 0]   [-1.5, 1, 1]   -1.5         0\n",
            "     1  [0, 1]   [-1.5, 1, 1]   -0.5         0\n",
            "     1  [1, 0]   [-1.5, 1, 1]   -0.5         0\n",
            "     1  [1, 1]   [-1.5, 1, 1]    0.5         1\n"
          ],
          "name": "stdout"
        }
      ]
    },
    {
      "cell_type": "code",
      "metadata": {
        "colab": {
          "base_uri": "https://localhost:8080/"
        },
        "id": "3bUqLEliJdoi",
        "outputId": "7ef3c45f-778d-4826-9654-eb53ac958862"
      },
      "source": [
        "#Bramka OR\r\n",
        "bias = 1\r\n",
        "inputs = [[0,0],[0,1],[1,0],[1,1]]\r\n",
        "weights = [-0.5,1,1]\r\n",
        "\r\n",
        "table_of_outcomes = []\r\n",
        "for input in inputs:\r\n",
        "  sum = neuron_sum(bias, input, weights)\r\n",
        "  table_of_outcomes.append([bias,input, weights, sum, fun(sum)])\r\n",
        "\r\n",
        "print(tabulate(table_of_outcomes, headers=[\"Bias\",\"Input\",\"Weights\",\"Sum\",\"Output\"]))"
      ],
      "execution_count": 78,
      "outputs": [
        {
          "output_type": "stream",
          "text": [
            "  Bias  Input    Weights         Sum    Output\n",
            "------  -------  ------------  -----  --------\n",
            "     1  [0, 0]   [-0.5, 1, 1]   -0.5         0\n",
            "     1  [0, 1]   [-0.5, 1, 1]    0.5         1\n",
            "     1  [1, 0]   [-0.5, 1, 1]    0.5         1\n",
            "     1  [1, 1]   [-0.5, 1, 1]    1.5         1\n"
          ],
          "name": "stdout"
        }
      ]
    },
    {
      "cell_type": "code",
      "metadata": {
        "colab": {
          "base_uri": "https://localhost:8080/"
        },
        "id": "n0Agm2J_JqCw",
        "outputId": "c18ca23a-44b2-46bf-8f37-2852e33532a2"
      },
      "source": [
        "#Bramka NOT\r\n",
        "bias = 1\r\n",
        "inputs = [0,1]\r\n",
        "weights = [1,-2]\r\n",
        "\r\n",
        "table_of_outcomes = []\r\n",
        "for input in inputs:\r\n",
        "  sum = weights[0]*bias+weights[1]*input\r\n",
        "  table_of_outcomes.append([bias,input, weights, sum, fun(sum)])\r\n",
        "\r\n",
        "print(tabulate(table_of_outcomes, headers=[\"Bias\",\"Input\",\"Weights\",\"Sum\",\"Output\"]))"
      ],
      "execution_count": 79,
      "outputs": [
        {
          "output_type": "stream",
          "text": [
            "  Bias    Input  Weights      Sum    Output\n",
            "------  -------  ---------  -----  --------\n",
            "     1        0  [1, -2]        1         1\n",
            "     1        1  [1, -2]       -1         0\n"
          ],
          "name": "stdout"
        }
      ]
    },
    {
      "cell_type": "code",
      "metadata": {
        "id": "UrQ7sXuVKaVV"
      },
      "source": [
        "#Sieć\r\n",
        "def layers(bias, inputs, weights):\r\n",
        "  A=np.array([bias]+inputs).transpose()\r\n",
        "  W=np.array(weights).transpose()\r\n",
        "  return A.dot(W)"
      ],
      "execution_count": 81,
      "outputs": []
    },
    {
      "cell_type": "code",
      "metadata": {
        "colab": {
          "base_uri": "https://localhost:8080/"
        },
        "id": "OEvc4ilVQ4Xn",
        "outputId": "3f28dfbd-4a41-4429-fbeb-d571a0e3f4e9"
      },
      "source": [
        "#Bramka XNOR przypadek 1.\r\n",
        "bias = 1\r\n",
        "inputs = [[0,0],[0,1],[1,0],[1,1]]\r\n",
        "weights = [0.5,-1,-1]\r\n",
        "\r\n",
        "table_of_outcomes = []\r\n",
        "for input in inputs:\r\n",
        "  sum = layers(bias, input, weights)\r\n",
        "  table_of_outcomes.append([bias,input, weights, sum, fun(sum)])\r\n",
        "\r\n",
        "print(tabulate(table_of_outcomes, headers=[\"Bias\",\"Input\",\"Weights\",\"Sum\",\"Output\"]))"
      ],
      "execution_count": 82,
      "outputs": [
        {
          "output_type": "stream",
          "text": [
            "  Bias  Input    Weights          Sum    Output\n",
            "------  -------  -------------  -----  --------\n",
            "     1  [0, 0]   [0.5, -1, -1]    0.5         1\n",
            "     1  [0, 1]   [0.5, -1, -1]   -0.5         0\n",
            "     1  [1, 0]   [0.5, -1, -1]   -0.5         0\n",
            "     1  [1, 1]   [0.5, -1, -1]   -1.5         0\n"
          ],
          "name": "stdout"
        }
      ]
    },
    {
      "cell_type": "code",
      "metadata": {
        "colab": {
          "base_uri": "https://localhost:8080/"
        },
        "id": "mrPWvOjRRlMX",
        "outputId": "37065063-588f-4e13-b3f8-41b56c28daf0"
      },
      "source": [
        "#Bramka XNOR przypadek 2.\r\n",
        "bias = 1\r\n",
        "inputs = [[0,0],[0,1],[1,0],[1,1]]\r\n",
        "weights = [[0.5,-1,-1],[-1.5,1,1]]\r\n",
        "\r\n",
        "table_of_outcomes = []\r\n",
        "for input in inputs:\r\n",
        "  sum = layers(bias, input, weights)\r\n",
        "  table_of_outcomes.append([bias,input, weights, sum, [fun(sum[0]),fun(sum[1])]])\r\n",
        "\r\n",
        "print(tabulate(table_of_outcomes, headers=[\"Bias\",\"Input\",\"Weights\",\"Sum\",\"Output\"]))"
      ],
      "execution_count": 88,
      "outputs": [
        {
          "output_type": "stream",
          "text": [
            "  Bias  Input    Weights                        Sum          Output\n",
            "------  -------  -----------------------------  -----------  --------\n",
            "     1  [0, 0]   [[0.5, -1, -1], [-1.5, 1, 1]]  [ 0.5 -1.5]  [1, 0]\n",
            "     1  [0, 1]   [[0.5, -1, -1], [-1.5, 1, 1]]  [-0.5 -0.5]  [0, 0]\n",
            "     1  [1, 0]   [[0.5, -1, -1], [-1.5, 1, 1]]  [-0.5 -0.5]  [0, 0]\n",
            "     1  [1, 1]   [[0.5, -1, -1], [-1.5, 1, 1]]  [-1.5  0.5]  [0, 1]\n"
          ],
          "name": "stdout"
        }
      ]
    },
    {
      "cell_type": "code",
      "metadata": {
        "colab": {
          "base_uri": "https://localhost:8080/"
        },
        "id": "crIF5_HfUuO5",
        "outputId": "ab62f0d7-deb8-4b24-de08-873d2b43fb84"
      },
      "source": [
        "#Bramka XOR przypadek 1.\r\n",
        "bias = 1\r\n",
        "inputs = [[0,0],[0,1],[1,0],[1,1]]\r\n",
        "weights = [-0.5,1,1]\r\n",
        "\r\n",
        "table_of_outcomes = []\r\n",
        "for input in inputs:\r\n",
        "  sum = layers(bias, input, weights)\r\n",
        "  table_of_outcomes.append([bias,input, weights, sum, fun(sum)])\r\n",
        "\r\n",
        "print(tabulate(table_of_outcomes, headers=[\"Bias\",\"Input\",\"Weights\",\"Sum\",\"Output\"]))"
      ],
      "execution_count": 89,
      "outputs": [
        {
          "output_type": "stream",
          "text": [
            "  Bias  Input    Weights         Sum    Output\n",
            "------  -------  ------------  -----  --------\n",
            "     1  [0, 0]   [-0.5, 1, 1]   -0.5         0\n",
            "     1  [0, 1]   [-0.5, 1, 1]    0.5         1\n",
            "     1  [1, 0]   [-0.5, 1, 1]    0.5         1\n",
            "     1  [1, 1]   [-0.5, 1, 1]    1.5         1\n"
          ],
          "name": "stdout"
        }
      ]
    },
    {
      "cell_type": "code",
      "metadata": {
        "colab": {
          "base_uri": "https://localhost:8080/"
        },
        "id": "MlxONI4JU9Wd",
        "outputId": "3714e0fb-4131-4db9-ecb3-c5dd58d3ee62"
      },
      "source": [
        "#Bramka XOR przypadek 2.\r\n",
        "bias = 1\r\n",
        "inputs = [[0,0],[0,1],[1,0],[1,1]]\r\n",
        "weights = [[-0.5,1,1],[1.5,-1,-1]]\r\n",
        "\r\n",
        "table_of_outcomes = []\r\n",
        "for input in inputs:\r\n",
        "  sum = layers(bias, input, weights)\r\n",
        "  table_of_outcomes.append([bias,input, weights, sum, [fun(sum[0]),fun(sum[1])]])\r\n",
        "\r\n",
        "print(tabulate(table_of_outcomes, headers=[\"Bias\",\"Input\",\"Weights\",\"Sum\",\"Output\"]))"
      ],
      "execution_count": 91,
      "outputs": [
        {
          "output_type": "stream",
          "text": [
            "  Bias  Input    Weights                        Sum          Output\n",
            "------  -------  -----------------------------  -----------  --------\n",
            "     1  [0, 0]   [[-0.5, 1, 1], [1.5, -1, -1]]  [-0.5  1.5]  [0, 1]\n",
            "     1  [0, 1]   [[-0.5, 1, 1], [1.5, -1, -1]]  [0.5 0.5]    [1, 1]\n",
            "     1  [1, 0]   [[-0.5, 1, 1], [1.5, -1, -1]]  [0.5 0.5]    [1, 1]\n",
            "     1  [1, 1]   [[-0.5, 1, 1], [1.5, -1, -1]]  [ 1.5 -0.5]  [1, 0]\n"
          ],
          "name": "stdout"
        }
      ]
    }
  ]
}