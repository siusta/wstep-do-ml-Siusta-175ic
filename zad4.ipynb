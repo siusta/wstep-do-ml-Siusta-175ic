{
 "cells": [
  {
   "cell_type": "code",
   "execution_count": 1,
   "metadata": {},
   "outputs": [],
   "source": [
    "from bs4 import BeautifulSoup\n",
    "from openpyxl import load_workbook, Workbook\n",
    "import random\n",
    "import requests\n",
    "import string\n",
    "import re\n",
    "import pandas as pd"
   ]
  },
  {
   "cell_type": "code",
   "execution_count": 2,
   "metadata": {},
   "outputs": [
    {
     "name": "stdout",
     "output_type": "stream",
     "text": [
      "['Giełda', 'Linki', 'Filmweb']\n"
     ]
    }
   ],
   "source": [
    "#“Giełda”, “Linki” i “Filmweb”\n",
    "wb = Workbook()\n",
    "wsG = wb.active\n",
    "wsG.title = \"Giełda\"\n",
    "wsL = wb.create_sheet(\"Linki\")\n",
    "wsF = wb.create_sheet(\"Filmweb\")\n",
    "\n",
    "print(wb.sheetnames)"
   ]
  },
  {
   "cell_type": "code",
   "execution_count": 3,
   "metadata": {
    "scrolled": true
   },
   "outputs": [
    {
     "data": {
      "text/plain": [
       "['mdp', 'qub', 'gob', 'imc', 'fhd']"
      ]
     },
     "execution_count": 3,
     "metadata": {},
     "output_type": "execute_result"
    }
   ],
   "source": [
    "# 5 losowych kodów 3-literowych...\n",
    "\n",
    "codes = []\n",
    "url = \"https://stooq.pl/q/?s=\"\n",
    "while len(codes)!=5:\n",
    "    code=''.join([random.choice(string.ascii_lowercase) for i in range(3)])\n",
    "    new_url = url+code\n",
    "    soup = BeautifulSoup(requests.get(new_url).text,\"html.parser\")\n",
    "    if \"nie istnieje w bazie\" not in soup.get_text():\n",
    "        codes.append(code)\n",
    "        \n",
    "codes"
   ]
  },
  {
   "cell_type": "code",
   "execution_count": 4,
   "metadata": {},
   "outputs": [],
   "source": [
    "# Aktualna cena, procentowa zmiana oraz liczba transakcji...\n",
    "\n",
    "dane = {\"Kod\":codes,\n",
    "        \"Kurs\":[],\n",
    "        \"Zmiana\":[],\n",
    "        \"Transakcje\":[]}\n",
    "\n",
    "for code in codes:\n",
    "    new_url = url + code\n",
    "    soup =  BeautifulSoup(requests.get(new_url).text,\"html.parser\")\n",
    "    course = float(soup.find(text=\"Kurs\").parent.find(\"span\").get_text())\n",
    "    changeText = soup.find(text=\"Zmiana\").parent.find(id=\"aq_\"+code+\"_m3\").get_text()\n",
    "    change = float(re.sub(\"[()%]\",\"\",changeText))\n",
    "    transactionTXT = soup.find(text=\"Transakcje\").parent.find(\"span\").get_text().replace(\" \",\"\")\n",
    "    transactions = int(transactionTXT) if transactionTXT else 0\n",
    "\n",
    "    dane[\"Kurs\"].append(course)\n",
    "    dane[\"Zmiana\"].append(change)\n",
    "    dane[\"Transakcje\"].append(transactions)\n",
    "\n",
    "\n"
   ]
  },
  {
   "cell_type": "code",
   "execution_count": 7,
   "metadata": {},
   "outputs": [
    {
     "data": {
      "text/html": [
       "<div>\n",
       "<style scoped>\n",
       "    .dataframe tbody tr th:only-of-type {\n",
       "        vertical-align: middle;\n",
       "    }\n",
       "\n",
       "    .dataframe tbody tr th {\n",
       "        vertical-align: top;\n",
       "    }\n",
       "\n",
       "    .dataframe thead th {\n",
       "        text-align: right;\n",
       "    }\n",
       "</style>\n",
       "<table border=\"1\" class=\"dataframe\">\n",
       "  <thead>\n",
       "    <tr style=\"text-align: right;\">\n",
       "      <th></th>\n",
       "      <th>Kod</th>\n",
       "      <th>Kurs</th>\n",
       "      <th>Zmiana</th>\n",
       "      <th>Transakcje</th>\n",
       "    </tr>\n",
       "  </thead>\n",
       "  <tbody>\n",
       "    <tr>\n",
       "      <th>0</th>\n",
       "      <td>mdp</td>\n",
       "      <td>4.04</td>\n",
       "      <td>-5.16</td>\n",
       "      <td>311</td>\n",
       "    </tr>\n",
       "    <tr>\n",
       "      <th>1</th>\n",
       "      <td>qub</td>\n",
       "      <td>5.96</td>\n",
       "      <td>0.34</td>\n",
       "      <td>43</td>\n",
       "    </tr>\n",
       "    <tr>\n",
       "      <th>2</th>\n",
       "      <td>gob</td>\n",
       "      <td>4.40</td>\n",
       "      <td>-1.79</td>\n",
       "      <td>3</td>\n",
       "    </tr>\n",
       "    <tr>\n",
       "      <th>3</th>\n",
       "      <td>imc</td>\n",
       "      <td>15.40</td>\n",
       "      <td>-3.14</td>\n",
       "      <td>30</td>\n",
       "    </tr>\n",
       "    <tr>\n",
       "      <th>4</th>\n",
       "      <td>fhd</td>\n",
       "      <td>3.40</td>\n",
       "      <td>-4.49</td>\n",
       "      <td>1</td>\n",
       "    </tr>\n",
       "  </tbody>\n",
       "</table>\n",
       "</div>"
      ],
      "text/plain": [
       "   Kod   Kurs  Zmiana  Transakcje\n",
       "0  mdp   4.04   -5.16         311\n",
       "1  qub   5.96    0.34          43\n",
       "2  gob   4.40   -1.79           3\n",
       "3  imc  15.40   -3.14          30\n",
       "4  fhd   3.40   -4.49           1"
      ]
     },
     "execution_count": 7,
     "metadata": {},
     "output_type": "execute_result"
    }
   ],
   "source": [
    "# Zapisz wyniki...\n",
    "\n",
    "df=pd.DataFrame(dane)\n",
    "writer = pd.ExcelWriter(path=\"H:\\Desktop\\Siuśta-175ic-B1.xlsx\",engine=\"openpyxl\")\n",
    "book = load_workbook(filename=\"H:\\Desktop\\Siuśta-175ic-B1.xlsx\")\n",
    "writer.book=book\n",
    "df.to_excel(writer, sheet_name=\"Giełda\")\n",
    "writer.save()\n",
    "\n",
    "df"
   ]
  },
  {
   "cell_type": "code",
   "execution_count": 8,
   "metadata": {},
   "outputs": [
    {
     "data": {
      "text/html": [
       "<div>\n",
       "<style scoped>\n",
       "    .dataframe tbody tr th:only-of-type {\n",
       "        vertical-align: middle;\n",
       "    }\n",
       "\n",
       "    .dataframe tbody tr th {\n",
       "        vertical-align: top;\n",
       "    }\n",
       "\n",
       "    .dataframe thead th {\n",
       "        text-align: right;\n",
       "    }\n",
       "</style>\n",
       "<table border=\"1\" class=\"dataframe\">\n",
       "  <thead>\n",
       "    <tr style=\"text-align: right;\">\n",
       "      <th></th>\n",
       "      <th>Link</th>\n",
       "    </tr>\n",
       "  </thead>\n",
       "  <tbody>\n",
       "    <tr>\n",
       "      <th>0</th>\n",
       "      <td>https://www.playgwent.com/pl//pl/play-mobile</td>\n",
       "    </tr>\n",
       "    <tr>\n",
       "      <th>1</th>\n",
       "      <td>https://apps.apple.com/us/app/gwent-the-witche...</td>\n",
       "    </tr>\n",
       "    <tr>\n",
       "      <th>2</th>\n",
       "      <td>https://www.playgwent.com/pl//pl/play-mobile</td>\n",
       "    </tr>\n",
       "    <tr>\n",
       "      <th>3</th>\n",
       "      <td>https://www.playgwent.com/pl//pl/play-mobile</td>\n",
       "    </tr>\n",
       "    <tr>\n",
       "      <th>4</th>\n",
       "      <td>https://play.google.com/store/apps/details?id=...</td>\n",
       "    </tr>\n",
       "    <tr>\n",
       "      <th>...</th>\n",
       "      <td>...</td>\n",
       "    </tr>\n",
       "    <tr>\n",
       "      <th>129</th>\n",
       "      <td>https://www.playgwent.com/pl//pl/contact-support</td>\n",
       "    </tr>\n",
       "    <tr>\n",
       "      <th>130</th>\n",
       "      <td>https://eu.store.cdprojektred.com/</td>\n",
       "    </tr>\n",
       "    <tr>\n",
       "      <th>131</th>\n",
       "      <td>http://press.cdprojektred.com/</td>\n",
       "    </tr>\n",
       "    <tr>\n",
       "      <th>132</th>\n",
       "      <td>https://cdprojektred.com</td>\n",
       "    </tr>\n",
       "    <tr>\n",
       "      <th>133</th>\n",
       "      <td>https://www.gog.com/</td>\n",
       "    </tr>\n",
       "  </tbody>\n",
       "</table>\n",
       "<p>134 rows × 1 columns</p>\n",
       "</div>"
      ],
      "text/plain": [
       "                                                  Link\n",
       "0         https://www.playgwent.com/pl//pl/play-mobile\n",
       "1    https://apps.apple.com/us/app/gwent-the-witche...\n",
       "2         https://www.playgwent.com/pl//pl/play-mobile\n",
       "3         https://www.playgwent.com/pl//pl/play-mobile\n",
       "4    https://play.google.com/store/apps/details?id=...\n",
       "..                                                 ...\n",
       "129   https://www.playgwent.com/pl//pl/contact-support\n",
       "130                 https://eu.store.cdprojektred.com/\n",
       "131                     http://press.cdprojektred.com/\n",
       "132                           https://cdprojektred.com\n",
       "133                               https://www.gog.com/\n",
       "\n",
       "[134 rows x 1 columns]"
      ]
     },
     "execution_count": 8,
     "metadata": {},
     "output_type": "execute_result"
    }
   ],
   "source": [
    "# Znajdź wszystkie linki...\n",
    "\n",
    "dane = {\"Link\":[]}\n",
    "url = \"https://www.playgwent.com/pl/\"\n",
    "soup = BeautifulSoup(requests.get(url).text,\"html.parser\")\n",
    "links = soup.find_all('a',href=True)\n",
    "for link in links:\n",
    "    ref = str(link.get(\"href\"))\n",
    "    if ref not in dane[\"Link\"]:\n",
    "        if \"http\" not in ref:\n",
    "            ref = url + ref\n",
    "        dane[\"Link\"].append(ref)\n",
    "\n",
    "df=pd.DataFrame(dane)\n",
    "writer = pd.ExcelWriter(path=\"H:\\Desktop\\Siuśta-175ic-B1.xlsx\",engine=\"openpyxl\")\n",
    "book = load_workbook(filename=\"H:\\Desktop\\Siuśta-175ic-B1.xlsx\")\n",
    "writer.book=book\n",
    "df.to_excel(writer, sheet_name=\"Linki\")\n",
    "writer.save()\n",
    "\n",
    "df"
   ]
  },
  {
   "cell_type": "code",
   "execution_count": 9,
   "metadata": {},
   "outputs": [
    {
     "data": {
      "text/html": [
       "<div>\n",
       "<style scoped>\n",
       "    .dataframe tbody tr th:only-of-type {\n",
       "        vertical-align: middle;\n",
       "    }\n",
       "\n",
       "    .dataframe tbody tr th {\n",
       "        vertical-align: top;\n",
       "    }\n",
       "\n",
       "    .dataframe thead th {\n",
       "        text-align: right;\n",
       "    }\n",
       "</style>\n",
       "<table border=\"1\" class=\"dataframe\">\n",
       "  <thead>\n",
       "    <tr style=\"text-align: right;\">\n",
       "      <th></th>\n",
       "      <th>Reżyser</th>\n",
       "      <th>Data premiery</th>\n",
       "      <th>Boxoffice</th>\n",
       "      <th>Ocena filmu</th>\n",
       "    </tr>\n",
       "  </thead>\n",
       "  <tbody>\n",
       "    <tr>\n",
       "      <th>0</th>\n",
       "      <td>Akira Kurosawa</td>\n",
       "      <td>26 kwietnia 1954 (świat)</td>\n",
       "      <td>71028</td>\n",
       "      <td>8.050543785095215</td>\n",
       "    </tr>\n",
       "  </tbody>\n",
       "</table>\n",
       "</div>"
      ],
      "text/plain": [
       "          Reżyser             Data premiery Boxoffice        Ocena filmu\n",
       "0  Akira Kurosawa  26 kwietnia 1954 (świat)     71028  8.050543785095215"
      ]
     },
     "execution_count": 9,
     "metadata": {},
     "output_type": "execute_result"
    }
   ],
   "source": [
    "dane = {\"Reżyser\":[],\n",
    "        \"Data premiery\":[],\n",
    "        \"Boxoffice\":[],\n",
    "        \"Ocena filmu\":[]}\n",
    "\n",
    "url = \"https://www.filmweb.pl/film/Siedmiu+samurajów-1954-31369\"\n",
    "\n",
    "soup = BeautifulSoup(requests.get(url).text, \"html.parser\")\n",
    "    \n",
    "dane[\"Reżyser\"] = [soup.find(itemprop=\"director\").text.strip()]\n",
    "dane[\"Data premiery\"] = [soup.find(\"span\", {\"class\": \"block\"}).text.strip()]\n",
    "dane[\"Boxoffice\"] = [soup.find(\"div\", {\"class\": \"filmRating filmRating--hasPanel\"}).attrs.get(\"data-count\")]\n",
    "dane[\"Ocena filmu\"] = [soup.find(\"div\", {\"class\": \"filmRating filmRating--hasPanel\"}).attrs.get(\"data-rate\")]\n",
    "\n",
    "df=pd.DataFrame(dane)\n",
    "writer = pd.ExcelWriter(path=\"H:\\Desktop\\Siuśta-175ic-B1.xlsx\",engine=\"openpyxl\")\n",
    "book = load_workbook(filename=\"H:\\Desktop\\Siuśta-175ic-B1.xlsx\")\n",
    "writer.book=book\n",
    "df.to_excel(writer, sheet_name=\"Filmweb\")\n",
    "writer.save()\n",
    "\n",
    "df"
   ]
  },
  {
   "cell_type": "code",
   "execution_count": null,
   "metadata": {},
   "outputs": [],
   "source": []
  }
 ],
 "metadata": {
  "kernelspec": {
   "display_name": "Python 3",
   "language": "python",
   "name": "python3"
  },
  "language_info": {
   "codemirror_mode": {
    "name": "ipython",
    "version": 3
   },
   "file_extension": ".py",
   "mimetype": "text/x-python",
   "name": "python",
   "nbconvert_exporter": "python",
   "pygments_lexer": "ipython3",
   "version": "3.9.0"
  }
 },
 "nbformat": 4,
 "nbformat_minor": 4
}
