{
 "cells": [
  {
   "cell_type": "code",
   "execution_count": 24,
   "metadata": {},
   "outputs": [],
   "source": [
    "from bs4 import BeautifulSoup\n",
    "from openpyxl import load_workbook, Workbook\n",
    "import random\n",
    "import requests\n",
    "import string"
   ]
  },
  {
   "cell_type": "code",
   "execution_count": 11,
   "metadata": {},
   "outputs": [
    {
     "name": "stdout",
     "output_type": "stream",
     "text": [
      "['Giełda', 'Linki', 'Filmweb']\n"
     ]
    }
   ],
   "source": [
    "#“Giełda”, “Linki” i “Filmweb”\n",
    "wb = Workbook()\n",
    "wb.active.title = \"Giełda\"\n",
    "wb.create_sheet(\"Linki\")\n",
    "wb.create_sheet(\"Filmweb\")\n",
    "\n",
    "print(wb.sheetnames)"
   ]
  },
  {
   "cell_type": "code",
   "execution_count": 28,
   "metadata": {},
   "outputs": [
    {
     "data": {
      "text/plain": [
       "['dds', 'lrt', 'gag', 'isb', 'cfu']"
      ]
     },
     "execution_count": 28,
     "metadata": {},
     "output_type": "execute_result"
    }
   ],
   "source": [
    "# 5 losowych kodów 3-literowych...\n",
    "\n",
    "codes = []\n",
    "url = \"https://stooq.pl/q/?s=\"\n",
    "while len(codes)!=5:\n",
    "    code=''.join([random.choice(string.ascii_lowercase) for i in range(3)])\n",
    "    new_url = url+code\n",
    "    soup = BeautifulSoup(requests.get(new_url).text,\"html.parser\")\n",
    "    if \"Czy chodziło ci o\" not in soup.get_text():\n",
    "        codes.append(code)\n",
    "        \n",
    "codes"
   ]
  },
  {
   "cell_type": "code",
   "execution_count": 20,
   "metadata": {},
   "outputs": [
    {
     "data": {
      "text/plain": [
       "<html><head><meta content=\"text/html;charset=utf-8\" http-equiv=\"content-type\"/><meta content=\"symbole, wykresy, znajdÅº symbol, wyszukaj symbol\" name=\"keywords\"/><meta content=\"Wyszukiwanie symbolu\" name=\"description\"/><title>Wyszukiwanie symbolu - Stooq</title><script>var $=function(s){return document.getElementById(s)};!function(n,e,o){function t(n,e){return typeof n===e}function s(){var n,e,o,s,a,f,l;for(var c in i)if(i.hasOwnProperty(c)){if(n=[],e=i[c],e.name&&(n.push(e.name.toLowerCase()),e.options&&e.options.aliases&&e.options.aliases.length))for(o=0;o<e.options.aliases.length;o++)n.push(e.options.aliases[o].toLowerCase());for(s=t(e.fn,\"function\")?e.fn():e.fn,a=0;a<n.length;a++)f=n[a],l=f.split(\".\"),1===l.length?Modernizr[l[0]]=s:(!Modernizr[l[0]]||Modernizr[l[0]]instanceof Boolean||(Modernizr[l[0]]=new Boolean(Modernizr[l[0]])),Modernizr[l[0]][l[1]]=s),r.push((s?\"\":\"no-\")+l.join(\"-\"))}}var i=[],a={_version:\"3.5.0\",_config:{classPrefix:\"\",enableClasses:!0,enableJSClass:!0,usePrefixes:!0},_q:[],on:function(n,e){var o=this;setTimeout(function(){e(o[n])},0)},addTest:function(n,e,o){i.push({name:n,fn:e,options:o})},addAsyncTest:function(n){i.push({name:null,fn:n})}},Modernizr=function(){};Modernizr.prototype=a,Modernizr=new Modernizr,Modernizr.addTest(\"svg\",!!e.createElementNS&&!!e.createElementNS(\"http://www.w3.org/2000/svg\",\"svg\").createSVGRect);var r=[];s(),delete a.addTest,delete a.addAsyncTest;for(var f=0;f<Modernizr._q.length;f++)Modernizr._q[f]();n.Modernizr=Modernizr}(window,document);var cmp_h=0,cmp_n=0,cmp_t=1;function out(){document.out_formularz.submit()}function q_rdr(a,b){if(!cmp_f.s.value)return false;if(!a){var _,s;cmp_t=0;if(cmp_n<2){var t=$('cmp_n1').innerHTML.replace(/<[^>]*>|<[^<]*>/g,'');t=t.substring(0,t.indexOf('|')).replace('&amp;','&').toLowerCase();_=(cmp_h?cmp_h:'')+t;cmp_f.s.value=_;if($('cmp1a')&&cmp_f_.id=='cmp_f')$('cmp1a').value=_}setTimeout(\"q_rdr(1,\"+(b?1:0)+\")\",60);return false;}else{if(b&&!cmp_fav){s=cmp_f.s.value;if(s.match(/^n:/i)){location.href='//stooq.pl/q/n/?s='+s.replace(/n: {0,}| /i,'').toLowerCase();return false}else if(s.match(/^a:/i)){location.href='//stooq.pl/q/a/?s='+s.replace(/a: {0,}| /i,'').toLowerCase();return false}else if(s.match(/^c:/i)){location.href='//stooq.pl/q/c/?s='+s.replace(/c: {0,}| /i,'').toLowerCase();return false}else if(s.match(/^d:/i)){location.href='//stooq.pl/q/d/?s='+s.replace(/d: {0,}| /i,'').toLowerCase();return false}else if(s.match(/^e:/i)){location.href='//stooq.pl/q/e/?s='+s.replace(/e: {0,}| /i,'').toLowerCase();return false}else if(s.match(/^f:/i)){location.href='//stooq.pl/q/f/?s='+s.replace(/f: {0,}| /i,'').toLowerCase();return false}else if(s.match(/^g:/i)){location.href='//stooq.pl/q/g/?s='+s.replace(/g: {0,}| /i,'').toLowerCase();return false}else if(s.match(/^h:/i)){location.href='//stooq.pl/q/h/?s='+s.replace(/h: {0,}| /i,'').toLowerCase();return false}else if(s.match(/^i:/i)){location.href='//stooq.pl/q/i/?s='+s.replace(/i: {0,}| /i,'').toLowerCase();return false}else if(s.match(/^o:/i)){location.href='//stooq.pl/q/m/?s='+s.replace(/m: {0,}| /i,'').toLowerCase();return false}else if(s.match(/^p:/i)){location.href='//stooq.pl/q/p/?s='+s.replace(/p: {0,}| /i,'').toLowerCase();return false}else cmp_u(s);}else cmp_fav?f_a():cmp_u(cmp_f.s.value)}}cmp_b=new Array();cmp_e=cmp_aq_e='';cmp_i=cmp_aq_m=0;cmp_l='';cmp_fav=0;cmp_p=0;cmp_f=cmp_f_='';cmp_ph='';cmp_id1=cmp_id1_=cmp_id2=cmp_id2_='';aq_chk_=0;function cmp_a(a,b,c,f){if(f)cmp_ph=f;if(a){cmp_f=$(a)?document.forms[a]:a;cmp_id1=b,cmp_id2=c;cmp_fav=b&&b.substring(5,9)=='_fav'?1:0}var d=0,e=0;clearTimeout(cmp_e);if(!cmp_f.s.value)d=1;if((cmp_h=cmp_f.s.value).match(/^a:|^c:|^d:|^e:|^f:|^g:|^h:|^i:|^n:|^o:|^p:/i)){if(cmp_h.length==2)d=1;cmp_h=cmp_h.substring(0,2);e=1}else cmp_h=0;if(d){$(cmp_id1).style.display='none';}if(cmp_t&&cmp_l!=(e?cmp_f.s.value.substring(2):cmp_f.s.value)){cmp_l=cmp_f.s.value.substring(cmp_h?2:0,100);if(cmp_l)cmp_q(cmp_l.replace('&','%26'))}if(cmp_id1_!=cmp_id1){if($(cmp_id1_)){$(cmp_id1_).style.display='none';$(cmp_id2_).innerHTML=''}if(cmp_f_){cmp_f_.s.value='';if($('cmp1a')&&cmp_f_.id=='cmp_f')$('cmp1a').value=''}cmp_id1_=cmp_id1;cmp_id2_=cmp_id2;cmp_f_=cmp_f}cmp_e=setTimeout(\"cmp_a()\",25)}function cmp_c(){if(cmp_id1&&$(cmp_id1)&&$(cmp_id1).style.display=='block')$(cmp_id1).style.display='none'}function cmp_k(a,b){var _,b,d=$('cmp1a')&&b?1:0;cmp_i=1;if(a.keyCode==13){return q_rdr(0,1)}else if(a.keyCode==38){if(cmp_n){c='cmp_n'+cmp_n;$(c).style.backgroundColor='#fff'}cmp_n--;if(cmp_n<0)cmp_n=cmp_p;if(cmp_n){cmp_t=0;c='cmp_n'+cmp_n;$(c).style.backgroundColor='e9e9e9';var t=$(c).innerHTML.replace(/<[^>]*>|<[^<]*>/g,'');t=t.substring(0,t.indexOf('|')).replace('&amp;','&').toLowerCase();_=(cmp_h?cmp_h:'')+t;cmp_f.s.value=_;if(d)$('cmp1a').value=_}else{_=(cmp_h?cmp_h:'')+cmp_l;cmp_f.s.value=_;if(d)$('cmp1a').value=_}}else if(a.keyCode==40){if(cmp_n){c='cmp_n'+cmp_n;$(c).style.backgroundColor='#fff'}cmp_n++;if(cmp_n>cmp_p)cmp_n=0;if(cmp_n){cmp_t=0;c='cmp_n'+cmp_n;$(c).style.backgroundColor='e9e9e9';var t=$(c).innerHTML.replace(/<[^>]*>|<[^<]*>/g,'');t=t.substring(0,t.indexOf('|')).replace('&amp;','&').toLowerCase();_=(cmp_h?cmp_h:'')+t;cmp_f.s.value=_;if(d)$('cmp1a').value=_}else{_=(cmp_h?cmp_h:'')+cmp_l;cmp_f.s.value=_;if(d)$('cmp1a').value=_}}else cmp_t=1}function cmp_m(a){var _=(cmp_h?cmp_h:'')+a;cmp_f.s.value=_;if($('cmp1a')&&cmp_f_.id=='cmp_f')$('cmp1a').value=_;cmp_h?q_rdr(1,1):(cmp_fav?f_a():cmp_u(a));cmp_l=a}function cmp_o(a){var i,b;if(!cmp_i){cmp_t=0;b='cmp_n'+a;var t=$(b).innerHTML.replace(/<[^>]*>|<[^<]*>/g,'');t=t.substring(0,t.indexOf('|')).replace('&amp;','&').toLowerCase();cmp_f.s.value=(cmp_h?cmp_h:'')+t}for(i=1;i<=cmp_p;i++){if(i!=a){b='cmp_n'+i;$(b).style.backgroundColor='#fff'}}}setTimeout(function(){if(document.readyState!='complete')document.cookie='ping=1;expires=Wed, 25 Nov 2020 05:31:17 +0100;path=/'},45000);function cmp_q(a){var b=document.getElementsByTagName('body')[0],c=$('cmp_id');if(c)b.removeChild(c);c=document.createElement('script');c.setAttribute('id','cmp_id');c.setAttribute('src','//stooq.pl/cmp/?1606257077&q='+a);b.appendChild(c)}function cmp_u(a){location.href='//stooq.pl/'+(cmp_ph?cmp_ph:'q/')+'?s='+a}function cmp_r(a){if(a)cmp_aq_m=1;$(cmp_id1).style.display=a?'block':'none';var b=a.split('|'),c='',d,d_;cmp_n=0;cmp_p=b.length;for(var k in b){d=b[k].split('~');k_='cmp_n'+(eval(k)+1);c+='<tr onclick=cmp_m(\\''+(d_=d[0].replace(/<\\/b>/g,'').replace(/<b>/g,'').toLowerCase())+'\\') id='+k_+'><td nowrap><a href=q/?s='+d_+' onclick=\"return false\">'+d[0]+'</a></td><td class=e1><span style=display:none>|</span>'+d[1]+'</td><td nowrap>&nbsp; '+(d[2]?d[2]:'')+'</td><td id=r nowrap>&nbsp; '+(d[3]&&d[3].indexOf('#')<0?'<span id='+'aq_'+d_+'_c'+d[5]+'>'+d[3]+'</span>':'')+'</td><td id=r nowrap>&nbsp;'+(d[4]?'<span id='+'aq_'+d_+'_m'+(d[4].indexOf('%')>-1?1:2)+'><font id=c'+((f=d[4].replace('%',''))>0?'1>+':(f<0?'2>':'3>'))+d[4]+'</font></span>':'')+'</td></tr>';if(cmp_fav)cmp_b[d_.replace('&amp;','&')]=[d[1],d[2]]}$(cmp_id2).innerHTML='<table width=100% border=0 cellpadding=2 cellspacing=0><tbody id=f13>'+c+'<tbody><tr><td colspan=5 align=right id=f11><a href=javascript:void(0)>Zamknij</a></td></tr></table>';}function cmp_aq(){if(aq_chk_){aq_0();aq(0,0);s='';for(k in aq_tck){if(aq_a_r[k])aq_tck[k]=aq_a_r[k];s+=k+' '+aq_tck[k]}aq_1(s)}}function aq_r(a,b,c){if(b<0) return a;else a=eval(a).toFixed(b);if(c){var d,e;a+='';d=a.split('.');e=/(\\d+)(\\d{3})/;while(e.test(d[0])) d[0]=d[0].replace(e,'$1'+c+'$2');return d[0]+(b?'.'+((d[1]?d[1]:0)+Array(b).join(0)).substring(0,b):'');}return a;}</script><style>br{font-size:63%}#f22,.f22{font-size:138%}#f20,.f20{font-size:125%}#f19,.f19{font-size:117%}#f18,.f18{font-size:113%}#f16,.f16{font-size:100%}#f15,.f15{font-size:94%}#f14,.f14{font-size:88%;line-height:125%}#f13,.f13{font-size:82%}#f13s{font-size:82%;line-height:134%}#f12,.f12{font-size:75%;font-family:arial,helvetica;line-height:121%}#f11{font-size:69%}#f10,.f10{font-size:63%;font-family:verdana,geneva,sans-seriff}#f10a{font-size:63%}#f09{font-size:57%;font-family:verdana,geneva,sans-seriff}#f03{font-size:19%}#f01{font-size:1%}#a{color:000000;font-size:63%;font-family:verdana,geneva,sans-seriff}#g1{color:#999}#ll{color:8888ee}#ll:visited{color:9977aa}#c1{color:116611}#c2{color:ee0000}#c3{color:000000}#c4{color:666666}#t01{background-color:ffffff}#t02{background-color:e9e9e9}#t03{background-color:f3f3f3}.tb1{border:solid 1px #cccccc}#s01{font-size:75%}#r,.r{text-align:right}#l,.l{text-align:left}#c,.c{text-align:center}#p_t1{background-color:f3f3f3;margin:0 4;padding:8 10}#spc1{font-weight:bold}.e1{max-width:350px;white-space:nowrap;overflow:hidden;text-overflow:ellipsis}.e2{max-width:75px;overflow:hidden;text-overflow:ellipsis}@keyframes f18nkehj{0%{opacity:0}90%{opacity:0}95%{opacity:1}100%{opacity:1}}@-webkit-keyframes f18nkehj{0%{opacity:0}99%{opacity:0}100%{opacity:1}}</style><base href=\"https://stooq.pl/\"/><link href=\"//static.stooq.pl/favicon.ico\" rel=\"icon\"/><script async=\"\" src=\"https://www.googletagmanager.com/gtag/js?id=UA-64441802-2\"></script><script>window.dataLayer=window.dataLayer||[];function gtag(){dataLayer.push(arguments)}gtag('js',new Date());gtag('config','UA-64441802-2');</script></head><body marginheight=\"3\" onclick=\"cmp_c()\" style=\"background-color:ffffff;font-family:arial,helvetica\" topmargin=\"3\"><script>(function(_){var __=_.document,z,y,x,w=-1,v,u,t,s=1;function a(){if(s){b();c();s=0}}function b(){z=$('cmp0'),y=$('cmp1'),x=$('cmp2');y.style.width=z.offsetWidth}function c(){if(!x)return;if(!t)t=/Android|webOS|iPhone|iPad|iPod|BlackBerry|IEMobile|Opera Mini/i.test(navigator.userAgent)?0:1;if((v=x.getBoundingClientRect()).top<0){y.style.display='block';if(!u)u=y.offsetHeight;cmp_1.style.top=(u-3+Math.abs(v.top))+'px';y.style.left=v.left;if(t&&(w<0||w==0&&$('cmp0a')===document.activeElement)){w=1;$('cmp1a').focus()}}else{if(y)y.style.display='none';cmp_1.style.top=(z.offsetHeight-4)+'px';if(t&&(w<0||w>0&&$('cmp1a')===document.activeElement)){w=0;$('cmp0a').focus()}}}if(__.addEventListener){__.addEventListener('readystatechange',a);_.addEventListener('resize',b);_.addEventListener('scroll',c)}else{__.attachEvent('onreadystatechange',a);_.attachEvent('onresize',b);_.attachEvent('onscroll',c)}})(window);</script><table border=\"0\" cellpadding=\"0\" cellspacing=\"0\" width=\"100%\"><tr><td width=\"0%\"><td><div style=\"width:685px;height:1px\"><!-- --></div></td><td width=\"0%\"><td></td></td></td></tr><tr valign=\"top\"><td></td><td><table align=\"center\" border=\"0\" cellpadding=\"0\" cellspacing=\"0\" style=\"max-width:1250px;margin:0 auto\" width=\"100%\"><tr valign=\"top\"><td><table align=\"center\" border=\"0\" cellpadding=\"0\" cellspacing=\"0\" width=\"100%\"><tr valign=\"top\"><td align=\"center\"><table border=\"0\" cellpadding=\"0\" cellspacing=\"0\" width=\"100%\"><tr><td height=\"50\" rowspan=\"3\" width=\"124\"><a href=\"//stooq.pl\" style=\"text-decoration:none\"><script>document.write(Modernizr.svg?'<svg xmlns=\"http://www.w3.org/2000/svg\" version=\"1.1\" width=\"124\" height=\"51\"><g><path d=\"M24.8,3.5v11.5h-0.9c-0.3-2.2-0.9-3.9-1.6-5.2c-0.8-1.3-1.9-2.3-3.4-3.1c-1.5-0.8-3-1.1-4.5-1.1C12.6,5.5,11.2,6,10,7c-1.2,1-1.7,2.2-1.7,3.5c0,1,0.4,1.9,1.1,2.8c1,1.2,3.5,2.8,7.5,4.9c3.2,1.7,5.4,2.9,6.6,3.8c1.2,0.9,2.1,1.9,2.7,3.1c0.6,1.2,1,2.5,1,3.8c0,2.5-1,4.7-3,6.5c-2,1.8-4.6,2.7-7.8,2.7c-1,0-1.9-0.1-2.8-0.2c-0.5-0.1-1.6-0.4-3.3-0.9s-2.7-0.8-3.1-0.8c-0.4,0-0.8,0.1-1,0.4c-0.2,0.2-0.4,0.7-0.5,1.5H4.6V26.8h0.9c0.4,2.4,1,4.2,1.8,5.3c0.7,1.2,1.9,2.2,3.4,2.9c1.5,0.8,3.2,1.2,5,1.2c2.1,0,3.8-0.5,5-1.6c1.2-1.1,1.8-2.3,1.8-3.8c0-0.8-0.2-1.6-0.7-2.5c-0.5-0.8-1.2-1.6-2.2-2.3c-0.7-0.5-2.5-1.5-5.4-3.1S9.3,20,8,19.1c-1.2-0.9-2.2-2-2.8-3.1c-0.6-1.1-1-2.4-1-3.8c0-2.4,0.9-4.4,2.8-6.1c1.9-1.7,4.3-2.6,7.2-2.6c1.8,0,3.8,0.4,5.8,1.3c0.9,0.4,1.6,0.6,2,0.6c0.4,0,0.8-0.1,1.1-0.4c0.3-0.3,0.5-0.8,0.7-1.5H24.8z\"/><path d=\"M38.2,7.6V15h5.4v1.7h-5.4v14.5c0,1.4,0.2,2.4,0.6,2.9c0.4,0.5,1,0.8,1.7,0.8c0.6,0,1.1-0.2,1.6-0.5c0.5-0.3,0.9-0.8,1.2-1.5h1c-0.6,1.6-1.4,2.8-2.5,3.6c-1.1,0.8-2.2,1.2-3.4,1.2c-0.8,0-1.5-0.2-2.3-0.6c-0.7-0.4-1.3-1-1.7-1.8c-0.4-0.8-0.5-2-0.5-3.6v-15h-3.7v-0.8c0.9-0.4,1.9-1,2.9-1.8c1-0.9,1.8-1.9,2.6-3c0.4-0.6,0.9-1.7,1.6-3.4H38.2z\"/><path d=\"M57.2,14.3c3.5,0,6.3,1.3,8.5,3.9c1.8,2.2,2.7,4.7,2.7,7.6c0,2-0.5,4-1.5,6.1c-1,2.1-2.4,3.6-4.1,4.6S59,38,56.9,38c-3.5,0-6.3-1.3-8.4-4c-1.7-2.3-2.6-4.8-2.6-7.6c0-2.1,0.5-4.1,1.6-6.1c1.1-2,2.5-3.5,4.2-4.5C53.4,14.8,55.2,14.3,57.2,14.3z M56.4,15.9c-0.9,0-1.8,0.3-2.7,0.8c-0.9,0.5-1.6,1.4-2.2,2.7c-0.6,1.3-0.8,2.9-0.8,5c0,3.3,0.7,6.1,2,8.4c1.3,2.4,3.1,3.5,5.3,3.5c1.6,0,3-0.7,4.1-2c1.1-1.3,1.6-3.5,1.6-6.7c0-4-0.9-7.1-2.7-9.4C59.8,16.7,58.2,15.9,56.4,15.9z\"/><path d=\"M83.1,14.3c3.5,0,6.3,1.3,8.5,3.9c1.8,2.2,2.7,4.7,2.7,7.6c0,2-0.5,4-1.5,6.1c-1,2.1-2.4,3.6-4.1,4.6S84.9,38,82.8,38c-3.5,0-6.3-1.3-8.4-4c-1.7-2.3-2.6-4.8-2.6-7.6c0-2.1,0.5-4.1,1.6-6.1c1.1-2,2.5-3.5,4.2-4.5C79.3,14.8,81.1,14.3,83.1,14.3z M82.3,15.9c-0.9,0-1.8,0.3-2.7,0.8c-0.9,0.5-1.6,1.4-2.2,2.7c-0.6,1.3-0.8,2.9-0.8,5c0,3.3,0.7,6.1,2,8.4c1.3,2.4,3.1,3.5,5.3,3.5c1.6,0,3-0.7,4.1-2c1.1-1.3,1.6-3.5,1.6-6.7c0-4-0.9-7.1-2.7-9.4C85.7,16.7,84.1,15.9,82.3,15.9z\" fill=\"#f00\"/><path d=\"M118.2,14.3v28.8c0,1.4,0.1,2.4,0.3,2.8c0.2,0.4,0.5,0.7,1,1c0.4,0.2,1.3,0.3,2.5,0.3v0.9h-11.7v-0.9h0.5c0.9,0,1.7-0.1,2.2-0.4c0.3-0.2,0.6-0.5,0.8-1s0.3-1.4,0.3-2.7v-9.6c-1.5,1.8-2.9,3-4,3.6c-1.2,0.6-2.3,1-3.6,1c-2.3,0-4.3-1-6-3c-1.8-2-2.7-4.6-2.7-7.9c0-3.8,1.2-6.9,3.5-9.3c2.3-2.4,5.2-3.6,8.5-3.6c1,0,1.9,0.1,2.7,0.4c0.8,0.3,1.5,0.7,2.2,1.2c1-0.5,1.9-1,2.8-1.6H118.2z M114,31.9V21.4c0-1.2-0.2-2.2-0.5-2.9c-0.3-0.7-0.9-1.3-1.8-1.8c-0.8-0.5-1.8-0.7-2.9-0.7c-1.9,0-3.5,0.8-4.9,2.3c-1.4,1.5-2,3.9-2,7c0,3,0.7,5.3,2.1,6.9c1.4,1.6,3,2.3,5,2.3c1,0,1.9-0.2,2.7-0.6C112.4,33.6,113.2,32.9,114,31.9z\"/></g></svg>':'<img src=//static.stooq.pl/stooq.png border=0 width=124 height=51>');</script></a></td><td colspan=\"3\"><div style=\"width:1px;height:2px\"><!-- --></div></td></tr><tr><td nowrap=\"\" valign=\"top\"><div style=\"width:1px;height:7px\"><!-- --></div></td><td align=\"right\" valign=\"top\"><table border=\"0\" cellpadding=\"0\" cellspacing=\"0\"><form action=\"search.html\" method=\"get\" name=\"form_search\"><tr><td nowrap=\"\"><input id=\"f12\" name=\"q\" size=\"15\" type=\"text\" value=\"\"/> <input id=\"s01\" type=\"submit\" value=\"Szukaj\"/> </td></tr></form></table></td></tr></table><center><nobr><span id=\"aqdat\" style=\"font-size:63%;font-family:verdana,geneva,sans-seriff\">wto, <b>24 lis 2020</b>, 23:31 CET, NY 17:31, Londyn 22:31, Tokio 7:31</span>, <b><font id=\"f10\"><a href=\"q/?s=^spx\">^SPX</a></font> <span id=\"aq_^spx_m1\" style=\"font-size:63%;font-family:verdana,geneva,sans-seriff\"><font id=\"c1\">+1.62%</font></span> </b></nobr></center><div style=\"width:1px;height:1px\"><!-- --></div><div id=\"cmp2\"></div><table bgcolor=\"6677aa\" border=\"0\" cellpadding=\"0\" cellspacing=\"4\" id=\"cmp0\" style=\"position:relative;z-index:19\" width=\"100%\"><tr><td><table border=\"0\" cellpadding=\"0\" cellspacing=\"0\"><form action=\"q/\" id=\"cmp_f\" method=\"get\" name=\"q\" onsubmit=\"return q_rdr(0,1)\"><tr><td id=\"f12\" nowrap=\"\" style=\"color:#fff\"> Symbol np: ^SPX  </td><td nowrap=\"\"><input autocomplete=\"off\" class=\"f13\" id=\"cmp0a\" maxlength=\"30\" name=\"s\" onclick=\"cmp_a(this.form,'cmp_1','cmp_2')\" onfocus=\"cmp_a(this.form,'cmp_1','cmp_2')\" onkeydown=\"cmp_k(event,1)\" onkeyup=\"if($('cmp1a'))$('cmp1a').value=this.value\" size=\"15\" type=\"text\"/></td><td nowrap=\"\"> <input id=\"f13\" type=\"submit\" value=\"Kwotuj\"/></td></tr><tr><td></td><td><div id=\"cmp_1\" style=\"position:absolute;display:none;white-space:nowrap;z-index:999\"><table bgcolor=\"666666\" border=\"0\" cellpadding=\"1\" cellspacing=\"1\" width=\"200\"><tr bgcolor=\"ffffff\"><td><div id=\"cmp_2\"></div></td></tr></table></div></td></tr></form></table><style>#cmp1{display:none;margin-top:0 !important;position:fixed;top:0;z-index:998}</style><div id=\"cmp1\"><table border=\"0\" cellpadding=\"0\" cellspacing=\"0\" style=\"background-color:#6677aa;border:4px solid #6677aa\" width=\"100%\"><tr><td id=\"f12\" nowrap=\"\" style=\"color:#fff\" width=\"1%\"> Symbol np: ^SPX  </td><td nowrap=\"\" width=\"1%\"><input autocomplete=\"off\" class=\"f13\" id=\"cmp1a\" maxlength=\"30\" onclick=\"cmp_a('cmp_f','cmp_1','cmp_2')\" onfocus=\"cmp_a('cmp_f','cmp_1','cmp_2')\" onkeydown=\"cmp_k(event,1)\" onkeyup=\"$('cmp0a').value=this.value\" size=\"15\" type=\"text\"/></td><td nowrap=\"\" width=\"1%\"> <input id=\"f13\" type=\"submit\" value=\"Kwotuj\"/></td><td width=\"97%\"></td></tr></table></div></td><td align=\"right\"><table border=\"0\" cellpadding=\"0\" cellspacing=\"0\"><form action=\"logred.htm\" method=\"post\"><input name=\"in\" type=\"hidden\" value=\"1\"/><input name=\"url\" type=\"hidden\" value=\"/q/s/?e=ass&amp;t=\"/><tr><td nowrap=\"\"><table border=\"0\" cellpadding=\"0\" cellspacing=\"0\"><tr><td id=\"f12\"><font color=\"ffffff\"><nobr>Login i <a href=\"login.html?fpass=1\" style=\"color:ffffff\">hasÅo</a></nobr></font></td><td nowrap=\"\">  <input id=\"f13\" maxlength=\"30\" name=\"login\" size=\"7\" type=\"text\"/> <input id=\"f13\" maxlength=\"30\" name=\"haslo\" size=\"7\" type=\"password\"/>  </td><td id=\"f12\"><a href=\"pomoc/?q=4\" style=\"color:ffffff\">zapisz</a></td><td nowrap=\"\"><input checked=\"\" id=\"f12\" name=\"save\" type=\"checkbox\"/> </td><td nowrap=\"\"><input id=\"f13\" type=\"submit\" value=\"Loguj\"/> </td></tr></table></td></tr></form></table></td></tr></table><div style=\"width:1px;height:1px\"><!-- --></div><table bgcolor=\"e4eafd\" border=\"0\" cellpadding=\"3\" cellspacing=\"2\" width=\"100%\"><tr><td id=\"f18\"><b>Wyszukiwanie symbolu</b></td></tr></table><div style=\"width:1px;height:10px\"><!-- --></div><table border=\"0\" cellpadding=\"0\" cellspacing=\"0\" width=\"100%\"><tr><td><table border=\"0\" cellpadding=\"0\" cellspacing=\"0\" width=\"100%\"><tr><td width=\"1\"><div style=\"width:1px;height:278px\"><!-- --></div></td><td valign=\"top\"><table border=\"0\" cellpadding=\"0\" cellspacing=\"0\" width=\"100%\"><tr><td align=\"center\"><div style=\"position:relative\"><iframe frameborder=\"0\" height=\"250\" scrolling=\"no\" src=\"//stooq.pl/ads/c/231_1.htm?2\" width=\"970\"></iframe><a href=\"?615506853513\" style=\"position:absolute;top:0;left:0;display:inline-block;width:970px;height:250px;z-index:5\"></a></div><img height=\"0\" src=\"https://ad.doubleclick.net/ddm/trackimp/N9577.152360STOOQ.PL/B25023159.288239395;dc_trk_aid=481801674;dc_trk_cid=141377236;ord=1606257077;dc_lat=;dc_rdid=;tag_for_child_directed_treatment=;tfua=;gdpr=;gdpr_consent=?\" width=\"0\"/></td></tr></table><div style=\"width:1;height:13\"><!-- --></div></td></tr></table></td></tr></table><table border=\"0\" cellpadding=\"0\" cellspacing=\"0\" width=\"100%\"><tr valign=\"top\"><td><table align=\"center\" border=\"0\" cellpadding=\"0\" cellspacing=\"0\" width=\"98%\"><tr><td><font id=\"f16\"><span id=\"c2\">Symbol <b>ASS</b> nie istnieje w bazie</span><br/><br/>Czy chodziÅo Ci o: <b><i><a href=\"q/?s=cass.us\">CASS INFORMATION SYSTEMS (CASS.US)</a></i></b><br/><div style=\"width:1px;height:30px\"><!-- --></div><font id=\"f13\"><span id=\"c2\">Uwaga!</span> Upewnij siÄ czy wpisujesz <a href=\"q/s/?q=ass&amp;c=0\">symbol waloru</a> a nie jego nazwÄ</font><br/><br/><a href=\"q/t/\">ZnajdÅº symbol wg kategorii</a> lub wyszukaj poniÅ¼ej</font><br/><div style=\"width:1px;height:40px\"><!-- --></div><table border=\"0\" cellpadding=\"10\" cellspacing=\"0\" width=\"100%\"><tr><td><table align=\"center\" border=\"0\" cellpadding=\"5\" height=\"60\"><form action=\"q/s/\" method=\"get\" name=\"t\"><tr><td nowrap=\"\"><b><font id=\"f13\">Szukaj waloru</font></b>  <input id=\"f13\" name=\"q\" size=\"27\" type=\"text\" value=\"ass\"/> <font id=\"f13\">w</font> <select id=\"f13\" name=\"c\"><option value=\"0\">Wszystkie kategorie<option value=\"1\">Akcje amerykaÅskie<option value=\"2\">Akcje europejskie<option value=\"3\">Akcje japoÅskie<option value=\"4\">HKEx<option value=\"5\">Fundusze<option value=\"6\">GPW<option value=\"7\">Indeksy<option value=\"8\">Rynek PienieÅ¼ny<option value=\"9\">Commodities<option value=\"10\">Waluty<option value=\"11\">Makro<option value=\"12\">NewConnect</option></option></option></option></option></option></option></option></option></option></option></option></option></select> <input id=\"f13\" type=\"submit\" value=\"Szukaj\"/></td></tr></form></table></td></tr></table><br/><div style=\"width:1px;height:20px\"><!-- --></div><br/></td></tr></table></td></tr></table></td></tr></table><p style=\"margin-top:70px\"><hr style=\"border-top:1px solid #cccccc;border-bottom:0px\"/><br/><center><span id=\"f10\"><a href=\"pomoc/\">Pomoc</a> - <a href=\"pp/\">Dla WebmasterÃ³w</a> - <a href=\"rss/\">RSS</a> - <a href=\"reklama/\">Reklama</a> - <a href=\"terms.html\">Regulamin</a> - <a href=\"noads/\">Zero reklam</a> - <a href=\"stooq/\">Stooq</a> - <a href=\"jobs/\">Praca</a> - <a href=\"https://play.google.com/store/apps/details?id=com.stooq.mobile&amp;hl=pl\">Aplikacja na Androida</a> - <a href=\"q/?s=co2.e\">Ziemski CO<sub>2</sub></a></span><p><font color=\"666666\" id=\"f10\">Notowania LSE, LSE Intl, Nasdaq, NYSE, NYSE MKT i WSE dostarcza <a href=\"//www.infrontfinance.com/\" id=\"ll\">Infront</a>. Notowania TFI i UFK dostarcza <a href=\"https://mojefundusze.pl/\" id=\"ll\">mojeFundusze.pl</a>.</font><p><font id=\"f10\">© 2000-2020 Stooq</font><br/></p></p></center></p></td></tr></table></td><td></td></tr></table></body></html>"
      ]
     },
     "execution_count": 20,
     "metadata": {},
     "output_type": "execute_result"
    }
   ],
   "source": [
    "# Aktualna cena, procentowa zmiana oraz liczba transakcji...\n",
    "\n",
    "\n",
    "\n",
    "\n",
    "\n"
   ]
  },
  {
   "cell_type": "code",
   "execution_count": null,
   "metadata": {},
   "outputs": [],
   "source": []
  }
 ],
 "metadata": {
  "kernelspec": {
   "display_name": "Python 3",
   "language": "python",
   "name": "python3"
  },
  "language_info": {
   "codemirror_mode": {
    "name": "ipython",
    "version": 3
   },
   "file_extension": ".py",
   "mimetype": "text/x-python",
   "name": "python",
   "nbconvert_exporter": "python",
   "pygments_lexer": "ipython3",
   "version": "3.9.0"
  }
 },
 "nbformat": 4,
 "nbformat_minor": 4
}
