{
 "cells": [
  {
   "cell_type": "code",
   "execution_count": 1,
   "metadata": {},
   "outputs": [],
   "source": [
    "import requests\n",
    "import time\n",
    "import concurrent.futures\n",
    "import threading\n",
    "import asyncio\n",
    "import aiohttp\n",
    "import nest_asyncio"
   ]
  },
  {
   "cell_type": "markdown",
   "metadata": {},
   "source": [
    "#### Wersja synchroniczna"
   ]
  },
  {
   "cell_type": "code",
   "execution_count": 2,
   "metadata": {},
   "outputs": [
    {
     "name": "stdout",
     "output_type": "stream",
     "text": [
      "Downloaded 160 in 15.463999032974243 seconds\n"
     ]
    }
   ],
   "source": [
    "def download_site(url, session):\n",
    "    session.get(url)\n",
    "\n",
    "\n",
    "def download_all_sites(sites):\n",
    "    with requests.Session() as session:\n",
    "        for url in sites:\n",
    "            download_site(url, session)\n",
    "\n",
    "\n",
    "if __name__ == \"__main__\":\n",
    "    sites = [\n",
    "        \"https://www.jython.org\",\n",
    "        \"http://olympus.realpython.org/dice\",\n",
    "    ] * 80\n",
    "    start_time = time.time()\n",
    "    download_all_sites(sites)\n",
    "    async_duration = time.time() - start_time\n",
    "    print(f\"Downloaded {len(sites)} in {async_duration} seconds\")"
   ]
  },
  {
   "cell_type": "markdown",
   "metadata": {},
   "source": [
    "#### Wersja wątkowa"
   ]
  },
  {
   "cell_type": "code",
   "execution_count": 3,
   "metadata": {},
   "outputs": [
    {
     "name": "stdout",
     "output_type": "stream",
     "text": [
      "Downloaded 160 in 3.357004165649414 seconds\n"
     ]
    }
   ],
   "source": [
    "thread_local = threading.local()\n",
    "\n",
    "\n",
    "def get_session():\n",
    "    if not hasattr(thread_local, \"session\"):\n",
    "        thread_local.session = requests.Session()\n",
    "    return thread_local.session\n",
    "\n",
    "\n",
    "def download_site(url):\n",
    "    session = get_session()\n",
    "    session.get(url) \n",
    "\n",
    "\n",
    "def download_all_sites(sites):\n",
    "    with concurrent.futures.ThreadPoolExecutor(max_workers=5) as executor:\n",
    "        executor.map(download_site, sites)\n",
    "\n",
    "start_time = time.time()\n",
    "download_all_sites(sites)\n",
    "thread_duration = time.time() - start_time\n",
    "print(f\"Downloaded {len(sites)} in {thread_duration} seconds\")"
   ]
  },
  {
   "cell_type": "markdown",
   "metadata": {},
   "source": [
    "#### Wersja asyncio"
   ]
  },
  {
   "cell_type": "code",
   "execution_count": 4,
   "metadata": {},
   "outputs": [
    {
     "name": "stdout",
     "output_type": "stream",
     "text": [
      "Downloaded 160 sites in 0.9400002956390381 seconds\n"
     ]
    }
   ],
   "source": [
    "async def download_all_sites(sites):\n",
    "    async with aiohttp.ClientSession() as session:\n",
    "        tasks = []\n",
    "        for url in sites:\n",
    "            task = asyncio.ensure_future(session.get(url))\n",
    "            tasks.append(task)\n",
    "        await asyncio.gather(*tasks, return_exceptions=True)\n",
    "\n",
    "        \n",
    "start_time = time.time()\n",
    "nest_asyncio.apply()\n",
    "asyncio.run(download_all_sites(sites))\n",
    "asyncio_duration = time.time() - start_time\n",
    "print(f\"Downloaded {len(sites)} sites in {asyncio_duration} seconds\")"
   ]
  },
  {
   "cell_type": "markdown",
   "metadata": {},
   "source": [
    "#### Wersja synchroniczna zależna od CPU"
   ]
  },
  {
   "cell_type": "code",
   "execution_count": 5,
   "metadata": {},
   "outputs": [
    {
     "name": "stdout",
     "output_type": "stream",
     "text": [
      "Duration 13.136292934417725 seconds\n"
     ]
    }
   ],
   "source": [
    "def cpu_bound(number):\n",
    "    return sum(i * i for i in range(number))\n",
    "\n",
    "\n",
    "def find_sums(numbers):\n",
    "    for number in numbers:\n",
    "        cpu_bound(number)\n",
    "\n",
    "\n",
    "if __name__ == \"__main__\":\n",
    "    numbers = [5_000_000 + x for x in range(20)]\n",
    "\n",
    "    start_time = time.time()\n",
    "    find_sums(numbers)\n",
    "    cpusynth_duration = time.time() - start_time\n",
    "    print(f\"Duration {cpusynth_duration} seconds\")"
   ]
  },
  {
   "cell_type": "markdown",
   "metadata": {},
   "source": [
    "#### Wersja wątkowa zależna od CPU "
   ]
  },
  {
   "cell_type": "code",
   "execution_count": 6,
   "metadata": {},
   "outputs": [
    {
     "name": "stdout",
     "output_type": "stream",
     "text": [
      "Duration 14.25199556350708 seconds\n"
     ]
    }
   ],
   "source": [
    "def find_sums(numbers):\n",
    "    with concurrent.futures.ThreadPoolExecutor(max_workers=5) as executor:\n",
    "        executor.map(cpu_bound, numbers)\n",
    "\n",
    "\n",
    "start_time = time.time()\n",
    "find_sums(numbers)\n",
    "cputh_duration = time.time() - start_time\n",
    "print(f\"Duration {cputh_duration} seconds\")"
   ]
  },
  {
   "cell_type": "markdown",
   "metadata": {},
   "source": [
    "#### Wersja asynchroniczna zależna od CPU"
   ]
  },
  {
   "cell_type": "code",
   "execution_count": 7,
   "metadata": {},
   "outputs": [
    {
     "name": "stdout",
     "output_type": "stream",
     "text": [
      "Duration 12.337998628616333 seconds\n"
     ]
    }
   ],
   "source": [
    "async def cpu_bound_as(number):\n",
    "    return sum(i * i for i in range(number))\n",
    "\n",
    "async def find_sums_as(numbers):\n",
    "    tasks = []\n",
    "    for number in numbers:\n",
    "        task = asyncio.ensure_future(cpu_bound_as(number))\n",
    "        tasks.append(task)\n",
    "    await asyncio.gather(*tasks, return_exceptions=True)\n",
    "\n",
    "        \n",
    "start_time = time.time()\n",
    "nest_asyncio.apply()\n",
    "asyncio.run(find_sums_as(numbers))\n",
    "cpuasynth_duration = time.time() - start_time\n",
    "print(f\"Duration {cpuasynth_duration} seconds\")"
   ]
  },
  {
   "cell_type": "markdown",
   "metadata": {},
   "source": [
    "#### Porównanie"
   ]
  },
  {
   "cell_type": "code",
   "execution_count": 9,
   "metadata": {},
   "outputs": [
    {
     "name": "stdout",
     "output_type": "stream",
     "text": [
      "Wersja asynchroniczna: 15.463999032974243 sekund\n",
      "Wersja wątkowa: 3.357004165649414 sekund\n",
      "Wrsja asynchroniczna: 0.9400002956390381 sekund\n",
      "\n",
      "Wersja synchroniczna zal. od CPU: 13.136292934417725 sekund\n",
      "Wersja wątkowa zal. od CPU: 14.25199556350708 sekund\n",
      "Wersja asynchroniczna zal. od CPU: 12.337998628616333 sekund\n"
     ]
    }
   ],
   "source": [
    "print(f\"Wersja asynchroniczna: {async_duration} sekund\")\n",
    "print(f\"Wersja wątkowa: {thread_duration} sekund\")\n",
    "print(f\"Wrsja asynchroniczna: {asyncio_duration} sekund\\n\")\n",
    "print(f\"Wersja synchroniczna zal. od CPU: {cpusynth_duration} sekund\")\n",
    "print(f\"Wersja wątkowa zal. od CPU: {cputh_duration} sekund\")\n",
    "print(f\"Wersja asynchroniczna zal. od CPU: {cpuasynth_duration} sekund\")"
   ]
  },
  {
   "cell_type": "markdown",
   "metadata": {},
   "source": [
    "Niestety multiprocessing nie działa na jupyterze"
   ]
  }
 ],
 "metadata": {
  "kernelspec": {
   "display_name": "Python 3",
   "language": "python",
   "name": "python3"
  },
  "language_info": {
   "codemirror_mode": {
    "name": "ipython",
    "version": 3
   },
   "file_extension": ".py",
   "mimetype": "text/x-python",
   "name": "python",
   "nbconvert_exporter": "python",
   "pygments_lexer": "ipython3",
   "version": "3.9.0"
  }
 },
 "nbformat": 4,
 "nbformat_minor": 4
}
