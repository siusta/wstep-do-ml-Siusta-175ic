{
 "cells": [
  {
   "cell_type": "code",
   "execution_count": 1,
   "metadata": {},
   "outputs": [],
   "source": [
    "import time\n",
    "import nest_asyncio\n",
    "import requests\n",
    "import json\n",
    "from urllib import request\n",
    "import multiprocessing\n",
    "import asyncio\n",
    "import aiohttp\n",
    "from concurrent.futures import ThreadPoolExecutor"
   ]
  },
  {
   "cell_type": "markdown",
   "metadata": {},
   "source": [
    "#### Synchronicznie "
   ]
  },
  {
   "cell_type": "code",
   "execution_count": 3,
   "metadata": {},
   "outputs": [
    {
     "name": "stdout",
     "output_type": "stream",
     "text": [
      "Time taken: 5.076997518539429\n"
     ]
    }
   ],
   "source": [
    "def download_images():\n",
    "    response = requests.get(\"https://picsum.photos/v2/list\")\n",
    "    if response.status_code != 200:\n",
    "        raise AttributeError('GET /tasks/ {}'.format(response.status_code))\n",
    "    data = json.loads(response.text)[:10]\n",
    "\n",
    "    pictures=[]\n",
    "    for s in data:\n",
    "        pictures.append(s['download_url']+\".jpg\")\n",
    "    return pictures\n",
    "\n",
    "def saveImages(link):\n",
    "    filename = link.split('/')[6].split('.')[0]\n",
    "    fileformat = link.split('/')[6].split('.')[1]\n",
    "    request.urlretrieve(link, \"{}.{}\".format(filename, fileformat))\n",
    "\n",
    "def main():\n",
    "    images = download_images()\n",
    "    for image in images:\n",
    "        saveImages(image)\n",
    "\n",
    "start_time = time.time()\n",
    "main()\n",
    "synch_duration = time.time() - start_time\n",
    "print(f\"Time taken: {synch_duration}\")"
   ]
  },
  {
   "cell_type": "markdown",
   "metadata": {},
   "source": [
    "#### Wielowątkowo"
   ]
  },
  {
   "cell_type": "code",
   "execution_count": 4,
   "metadata": {},
   "outputs": [
    {
     "name": "stdout",
     "output_type": "stream",
     "text": [
      "Time taken: 1.9130001068115234\n"
     ]
    }
   ],
   "source": [
    "def process_images_threading():\n",
    "    images = download_images()\n",
    "    with ThreadPoolExecutor(max_workers=5) as executor:\n",
    "        executor.map(saveImages,images)\n",
    "\n",
    "start_time = time.time()\n",
    "process_images_threading()\n",
    "mth_duration = time.time() - start_time\n",
    "print(f\"Time taken: {mth_duration}\")"
   ]
  },
  {
   "cell_type": "markdown",
   "metadata": {},
   "source": [
    "#### AsyncIO"
   ]
  },
  {
   "cell_type": "code",
   "execution_count": 5,
   "metadata": {},
   "outputs": [
    {
     "name": "stdout",
     "output_type": "stream",
     "text": [
      "Time taken: 1.4619972705841064\n"
     ]
    }
   ],
   "source": [
    "async def download_images_asyncio(link, session):\n",
    "    filename = link.split('/')[6].split('.')[0]\n",
    "    fileformat = link.split('/')[6].split('.')[1]\n",
    "    async with session.get(link) as response:\n",
    "        with open(\"{}.{}\".format(filename, fileformat), 'wb') as fd:\n",
    "            async for data in response.content.iter_chunked(1024):\n",
    "                fd.write(data)\n",
    "\n",
    "async def main_asyncio():\n",
    "    images = download_images()\n",
    "\n",
    "    async with aiohttp.ClientSession() as session:\n",
    "        tasks=[download_images_asyncio(image,session)for image in images]\n",
    "        return await asyncio.gather(*tasks)\n",
    "\n",
    "start_time = time.time()\n",
    "nest_asyncio.apply()\n",
    "asyncio.run(main_asyncio())\n",
    "asyncio_duration = time.time() - start_time\n",
    "print(f\"Time taken: {asyncio_duration}\")"
   ]
  },
  {
   "cell_type": "markdown",
   "metadata": {},
   "source": [
    "#### Porównanie: "
   ]
  },
  {
   "cell_type": "code",
   "execution_count": 6,
   "metadata": {},
   "outputs": [
    {
     "name": "stdout",
     "output_type": "stream",
     "text": [
      "Synchronicznie: 5.076997518539429 sekund\n",
      "Wielowątkowo: 1.9130001068115234 sekund\n",
      "AsyncIO: 1.4619972705841064 sekund\n"
     ]
    }
   ],
   "source": [
    "print(f\"Synchronicznie: {synch_duration} sekund\")\n",
    "print(f\"Wielowątkowo: {mth_duration} sekund\")\n",
    "print(f\"AsyncIO: {asyncio_duration} sekund\")"
   ]
  }
 ],
 "metadata": {
  "kernelspec": {
   "display_name": "Python 3",
   "language": "python",
   "name": "python3"
  },
  "language_info": {
   "codemirror_mode": {
    "name": "ipython",
    "version": 3
   },
   "file_extension": ".py",
   "mimetype": "text/x-python",
   "name": "python",
   "nbconvert_exporter": "python",
   "pygments_lexer": "ipython3",
   "version": "3.9.0"
  }
 },
 "nbformat": 4,
 "nbformat_minor": 4
}
